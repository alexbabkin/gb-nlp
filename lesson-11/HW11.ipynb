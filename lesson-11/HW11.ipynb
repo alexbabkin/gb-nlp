{
 "cells": [
  {
   "cell_type": "markdown",
   "id": "15e2150a",
   "metadata": {},
   "source": [
    "### Разобраться с моделькой перевода как она устроена (c механизмом внимания), запустить для перевода с русского на английский (при желании можно взять другие пары языков) внимание классическое с RNN-ками в энкодере и декодере"
   ]
  },
  {
   "cell_type": "code",
   "execution_count": 1,
   "id": "287a9150",
   "metadata": {},
   "outputs": [],
   "source": [
    "import tensorflow as tf\n",
    "\n",
    "import matplotlib.pyplot as plt\n",
    "import matplotlib.ticker as ticker\n",
    "from sklearn.model_selection import train_test_split\n",
    "\n",
    "import unicodedata\n",
    "import re\n",
    "import numpy as np\n",
    "import os\n",
    "import io\n",
    "import time"
   ]
  },
  {
   "cell_type": "markdown",
   "id": "47b26692",
   "metadata": {},
   "source": [
    "### Подготовка данных"
   ]
  },
  {
   "cell_type": "code",
   "execution_count": 2,
   "id": "bfe3b9ae",
   "metadata": {},
   "outputs": [],
   "source": [
    "# Download the file\n",
    "path_to_file = \"./data/translation/rus.txt\""
   ]
  },
  {
   "cell_type": "code",
   "execution_count": 3,
   "id": "26d96c4a",
   "metadata": {},
   "outputs": [],
   "source": [
    "def preprocess_sentence(w):\n",
    "    w = w.lower().strip()\n",
    "\n",
    "    # creating a space between a word and the punctuation following it\n",
    "    # eg: \"he is a boy.\" => \"he is a boy .\"\n",
    "    # Reference:- https://stackoverflow.com/questions/3645931/python-padding-punctuation-with-white-spaces-keeping-punctuation\n",
    "    w = re.sub(r\"([?.!,])\", r\" \\1 \", w)\n",
    "    w = re.sub(r'[\" \"]+', \" \", w)\n",
    "\n",
    "    # replacing everything with space except (a-z, A-Z, \".\", \"?\", \"!\", \",\")\n",
    "    w = re.sub(r\"[^a-zA-Zа-яА-Я?.!,']+\", \" \", w)\n",
    "\n",
    "    w = w.strip()\n",
    "\n",
    "    # adding a start and an end token to the sentence\n",
    "    # so that the model know when to start and stop predicting.\n",
    "    w = '<start> ' + w + ' <end>'\n",
    "    return w"
   ]
  },
  {
   "cell_type": "code",
   "execution_count": 4,
   "id": "1058100f",
   "metadata": {},
   "outputs": [
    {
     "data": {
      "text/plain": [
       "\"<start> i can't go . <end>\""
      ]
     },
     "execution_count": 4,
     "metadata": {},
     "output_type": "execute_result"
    }
   ],
   "source": [
    "\n",
    "preprocess_sentence(\"I can't go.\")"
   ]
  },
  {
   "cell_type": "code",
   "execution_count": 5,
   "id": "a96dc825",
   "metadata": {},
   "outputs": [],
   "source": [
    "# 1. Remove the accents\n",
    "# 2. Clean the sentences\n",
    "# 3. Return word pairs in the format: [ENG, RUS]\n",
    "def create_dataset(path, num_examples):\n",
    "    lines = io.open(path, encoding='UTF-8').read().strip().split('\\n')\n",
    "\n",
    "    word_pairs = [[preprocess_sentence(w) for w in l.split('\\t')[:2]]  for l in lines[:num_examples]]\n",
    "\n",
    "    return zip(*word_pairs)"
   ]
  },
  {
   "cell_type": "code",
   "execution_count": 6,
   "id": "76fa9d63",
   "metadata": {},
   "outputs": [
    {
     "name": "stdout",
     "output_type": "stream",
     "text": [
      "<start> doubtless there exists in this world precisely the right woman for any given man to marry and vice versa but when you consider that a human being has the opportunity of being acquainted with only a few hundred people , and out of the few hundred that there are but a dozen or less whom he knows intimately , and out of the dozen , one or two friends at most , it will easily be seen , when we remember the number of millions who inhabit this world , that probably , since the earth was created , the right man has never yet met the right woman . <end>\n",
      "<start> несомненно , для каждого мужчины в этом мире где то есть подходящая женщина , которая может стать ему женой , обратное верно и для женщин . но если учесть , что у человека может быть максимум несколько сотен знакомых , из которых лишь дюжина , а то и меньше , тех , кого он знает близко , а из этой дюжины у него один или от силы два друга , то можно легко увидеть , что с уч том миллионов живущих на земле людей , ни один подходящий мужчина , возможно , ещ не встретил подходящую женщину . <end>\n"
     ]
    }
   ],
   "source": [
    "en, ru = create_dataset(path_to_file, None)\n",
    "print(en[-1])\n",
    "print(ru[-1])"
   ]
  },
  {
   "cell_type": "code",
   "execution_count": 7,
   "id": "c89f22ed",
   "metadata": {},
   "outputs": [],
   "source": [
    "def tokenize(lang):\n",
    "    lang_tokenizer = tf.keras.preprocessing.text.Tokenizer(\n",
    "      filters='')\n",
    "    lang_tokenizer.fit_on_texts(lang)\n",
    "\n",
    "    tensor = lang_tokenizer.texts_to_sequences(lang)\n",
    "\n",
    "    tensor = tf.keras.preprocessing.sequence.pad_sequences(tensor,\n",
    "                                                         padding='post')\n",
    "\n",
    "    return tensor, lang_tokenizer"
   ]
  },
  {
   "cell_type": "code",
   "execution_count": 8,
   "id": "9f34fa35",
   "metadata": {},
   "outputs": [],
   "source": [
    "def load_dataset(path, num_examples=None):\n",
    "    # creating cleaned input, output pairs\n",
    "    targ_lang, inp_lang = create_dataset(path, num_examples)\n",
    "\n",
    "    input_tensor, inp_lang_tokenizer = tokenize(inp_lang)\n",
    "    target_tensor, targ_lang_tokenizer = tokenize(targ_lang)\n",
    "\n",
    "    return input_tensor, target_tensor, inp_lang_tokenizer, targ_lang_tokenizer"
   ]
  },
  {
   "cell_type": "code",
   "execution_count": 9,
   "id": "29b83112",
   "metadata": {},
   "outputs": [
    {
     "data": {
      "text/plain": [
       "(431097, 431097)"
      ]
     },
     "execution_count": 9,
     "metadata": {},
     "output_type": "execute_result"
    }
   ],
   "source": [
    "len(en), len(ru)"
   ]
  },
  {
   "cell_type": "code",
   "execution_count": 10,
   "id": "97355400",
   "metadata": {},
   "outputs": [],
   "source": [
    "# Try experimenting with the size of that dataset\n",
    "num_examples = 100000\n",
    "input_tensor, target_tensor, inp_lang, targ_lang = load_dataset(path_to_file, num_examples)\n",
    "\n",
    "# Calculate max_length of the target tensors\n",
    "max_length_targ, max_length_inp = target_tensor.shape[1], input_tensor.shape[1]"
   ]
  },
  {
   "cell_type": "code",
   "execution_count": 11,
   "id": "67ea0417",
   "metadata": {},
   "outputs": [
    {
     "name": "stdout",
     "output_type": "stream",
     "text": [
      "80000 80000 20000 20000\n"
     ]
    }
   ],
   "source": [
    "# Creating training and validation sets using an 80-20 split\n",
    "input_tensor_train, input_tensor_val, target_tensor_train, target_tensor_val = train_test_split(input_tensor, target_tensor, test_size=0.2)\n",
    "\n",
    "# Show length\n",
    "print(len(input_tensor_train), len(target_tensor_train), len(input_tensor_val), len(target_tensor_val))"
   ]
  },
  {
   "cell_type": "code",
   "execution_count": 12,
   "id": "c2eb226f",
   "metadata": {},
   "outputs": [],
   "source": [
    "def convert(lang, tensor):\n",
    "    for t in tensor:\n",
    "        if t!=0:\n",
    "            print (\"%d ----> %s\" % (t, lang.index_word[t]))"
   ]
  },
  {
   "cell_type": "code",
   "execution_count": 13,
   "id": "4e3eeef2",
   "metadata": {},
   "outputs": [
    {
     "name": "stdout",
     "output_type": "stream",
     "text": [
      "Input Language; index to word mapping\n",
      "1 ----> <start>\n",
      "13 ----> мы\n",
      "21 ----> с\n",
      "56 ----> томом\n",
      "257 ----> рано\n",
      "3 ----> .\n",
      "2 ----> <end>\n",
      "\n",
      "Target Language; index to word mapping\n",
      "1 ----> <start>\n",
      "5 ----> tom\n",
      "152 ----> and\n",
      "4 ----> i\n",
      "22 ----> are\n",
      "248 ----> early\n",
      "3 ----> .\n",
      "2 ----> <end>\n"
     ]
    }
   ],
   "source": [
    "print (\"Input Language; index to word mapping\")\n",
    "convert(inp_lang, input_tensor_train[0])\n",
    "print ()\n",
    "print (\"Target Language; index to word mapping\")\n",
    "convert(targ_lang, target_tensor_train[0])"
   ]
  },
  {
   "cell_type": "code",
   "execution_count": 14,
   "id": "91d33d56",
   "metadata": {},
   "outputs": [],
   "source": [
    "BUFFER_SIZE = len(input_tensor_train)\n",
    "BATCH_SIZE = 64\n",
    "\n",
    "steps_per_epoch = len(input_tensor_train)//BATCH_SIZE\n",
    "\n",
    "embedding_dim = 256\n",
    "units = 1024\n",
    "vocab_inp_size = len(inp_lang.word_index)+1\n",
    "vocab_tar_size = len(targ_lang.word_index)+1\n",
    "\n",
    "dataset = tf.data.Dataset.from_tensor_slices((input_tensor_train, target_tensor_train)).shuffle(BUFFER_SIZE)\n",
    "dataset = dataset.batch(BATCH_SIZE, drop_remainder=True)"
   ]
  },
  {
   "cell_type": "code",
   "execution_count": 15,
   "id": "2913a353",
   "metadata": {},
   "outputs": [
    {
     "data": {
      "text/plain": [
       "(TensorShape([64, 15]), TensorShape([64, 11]))"
      ]
     },
     "execution_count": 15,
     "metadata": {},
     "output_type": "execute_result"
    }
   ],
   "source": [
    "example_input_batch, example_target_batch = next(iter(dataset))\n",
    "example_input_batch.shape, example_target_batch.shape"
   ]
  },
  {
   "cell_type": "code",
   "execution_count": 16,
   "id": "d3eae44d",
   "metadata": {},
   "outputs": [],
   "source": [
    "class Encoder(tf.keras.Model):\n",
    "    def __init__(self, vocab_size, embedding_dim, enc_units, batch_sz):\n",
    "        super(Encoder, self).__init__()\n",
    "        self.batch_sz = batch_sz\n",
    "        self.enc_units = enc_units\n",
    "        self.embedding = tf.keras.layers.Embedding(vocab_size, embedding_dim)\n",
    "        self.gru = tf.keras.layers.GRU(self.enc_units,\n",
    "                                   return_sequences=True,\n",
    "                                   return_state=True,\n",
    "                                   recurrent_initializer='glorot_uniform')\n",
    "\n",
    "    def call(self, x, hidden):\n",
    "        x = self.embedding(x)\n",
    "        output, state = self.gru(x, initial_state = hidden)\n",
    "        return output, state\n",
    "\n",
    "    def initialize_hidden_state(self):\n",
    "        return tf.zeros((self.batch_sz, self.enc_units))"
   ]
  },
  {
   "cell_type": "code",
   "execution_count": 17,
   "id": "368b6051",
   "metadata": {},
   "outputs": [
    {
     "name": "stdout",
     "output_type": "stream",
     "text": [
      "Encoder output shape: (batch size, sequence length, units) (64, 15, 1024)\n",
      "Encoder Hidden state shape: (batch size, units) (64, 1024)\n"
     ]
    }
   ],
   "source": [
    "encoder = Encoder(vocab_inp_size, embedding_dim, units, BATCH_SIZE)\n",
    "\n",
    "# sample input\n",
    "sample_hidden = encoder.initialize_hidden_state()\n",
    "sample_output, sample_hidden = encoder(example_input_batch, sample_hidden)\n",
    "print ('Encoder output shape: (batch size, sequence length, units) {}'.format(sample_output.shape))\n",
    "print ('Encoder Hidden state shape: (batch size, units) {}'.format(sample_hidden.shape))"
   ]
  },
  {
   "cell_type": "code",
   "execution_count": 18,
   "id": "72ff75ed",
   "metadata": {},
   "outputs": [],
   "source": [
    "class BahdanauAttention(tf.keras.layers.Layer):\n",
    "    def __init__(self, units):\n",
    "        super(BahdanauAttention, self).__init__()\n",
    "        self.W1 = tf.keras.layers.Dense(units)\n",
    "        self.W2 = tf.keras.layers.Dense(units)\n",
    "        self.V = tf.keras.layers.Dense(1)\n",
    "\n",
    "    def call(self, query, values):\n",
    "        # query hidden state shape == (batch_size, hidden size)\n",
    "        # query_with_time_axis shape == (batch_size, 1, hidden size)\n",
    "        # values shape == (batch_size, max_len, hidden size)\n",
    "        # we are doing this to broadcast addition along the time axis to calculate the score\n",
    "        query_with_time_axis = tf.expand_dims(query, 1)\n",
    "\n",
    "        # score shape == (batch_size, max_length, 1)\n",
    "        # we get 1 at the last axis because we are applying score to self.V\n",
    "        # the shape of the tensor before applying self.V is (batch_size, max_length, units)\n",
    "        score = self.V(tf.nn.tanh(\n",
    "            self.W1(query_with_time_axis) + self.W2(values)))\n",
    "\n",
    "        # attention_weights shape == (batch_size, max_length, 1)\n",
    "        attention_weights = tf.nn.softmax(score, axis=1)\n",
    "\n",
    "        # context_vector shape after sum == (batch_size, hidden_size)\n",
    "        context_vector = attention_weights * values\n",
    "        context_vector = tf.reduce_sum(context_vector, axis=1)\n",
    "\n",
    "        return context_vector, attention_weights"
   ]
  },
  {
   "cell_type": "code",
   "execution_count": 19,
   "id": "a6196dc1",
   "metadata": {},
   "outputs": [
    {
     "name": "stdout",
     "output_type": "stream",
     "text": [
      "Attention result shape: (batch size, units) (64, 1024)\n",
      "Attention weights shape: (batch_size, sequence_length, 1) (64, 15, 1)\n"
     ]
    }
   ],
   "source": [
    "attention_layer = BahdanauAttention(10)\n",
    "attention_result, attention_weights = attention_layer(sample_hidden, sample_output)\n",
    "\n",
    "print(\"Attention result shape: (batch size, units) {}\".format(attention_result.shape))\n",
    "print(\"Attention weights shape: (batch_size, sequence_length, 1) {}\".format(attention_weights.shape))"
   ]
  },
  {
   "cell_type": "code",
   "execution_count": 20,
   "id": "8c3a8efb",
   "metadata": {},
   "outputs": [],
   "source": [
    "class Decoder(tf.keras.Model):\n",
    "    def __init__(self, vocab_size, embedding_dim, dec_units, batch_sz):\n",
    "        super(Decoder, self).__init__()\n",
    "        self.batch_sz = batch_sz\n",
    "        self.dec_units = dec_units\n",
    "        self.embedding = tf.keras.layers.Embedding(vocab_size, embedding_dim)\n",
    "        self.gru = tf.keras.layers.GRU(self.dec_units,\n",
    "                                       return_sequences=True,\n",
    "                                       return_state=True,\n",
    "                                       recurrent_initializer='glorot_uniform')\n",
    "        self.fc = tf.keras.layers.Dense(vocab_size)\n",
    "\n",
    "        # used for attention\n",
    "        self.attention = BahdanauAttention(self.dec_units)\n",
    "\n",
    "    def call(self, x, hidden, enc_output):\n",
    "        # enc_output shape == (batch_size, max_length, hidden_size)\n",
    "        context_vector, attention_weights = self.attention(hidden, enc_output)\n",
    "\n",
    "        # x shape after passing through embedding == (batch_size, 1, embedding_dim)\n",
    "        x = self.embedding(x)\n",
    "\n",
    "        # x shape after concatenation == (batch_size, 1, embedding_dim + hidden_size)\n",
    "        x = tf.concat([tf.expand_dims(context_vector, 1), x], axis=-1)\n",
    "\n",
    "        # passing the concatenated vector to the GRU\n",
    "        output, state = self.gru(x)\n",
    "\n",
    "        # output shape == (batch_size * 1, hidden_size)\n",
    "        output = tf.reshape(output, (-1, output.shape[2]))\n",
    "\n",
    "        # output shape == (batch_size, vocab)\n",
    "        x = self.fc(output)\n",
    "\n",
    "        return x, state, attention_weights"
   ]
  },
  {
   "cell_type": "code",
   "execution_count": 21,
   "id": "3f7e7a54",
   "metadata": {},
   "outputs": [
    {
     "name": "stdout",
     "output_type": "stream",
     "text": [
      "Decoder output shape: (batch_size, vocab size) (64, 7260)\n"
     ]
    }
   ],
   "source": [
    "decoder = Decoder(vocab_tar_size, embedding_dim, units, BATCH_SIZE)\n",
    "\n",
    "sample_decoder_output, _, _ = decoder(tf.random.uniform((BATCH_SIZE, 1)),\n",
    "                                      sample_hidden, sample_output)\n",
    "\n",
    "print ('Decoder output shape: (batch_size, vocab size) {}'.format(sample_decoder_output.shape))"
   ]
  },
  {
   "cell_type": "code",
   "execution_count": 22,
   "id": "85dbd166",
   "metadata": {},
   "outputs": [],
   "source": [
    "optimizer = tf.keras.optimizers.Adam()\n",
    "loss_object = tf.keras.losses.SparseCategoricalCrossentropy(\n",
    "    from_logits=True, reduction='none')\n",
    "\n",
    "def loss_function(real, pred):\n",
    "    mask = tf.math.logical_not(tf.math.equal(real, 0))\n",
    "    loss_ = loss_object(real, pred)\n",
    "\n",
    "    mask = tf.cast(mask, dtype=loss_.dtype)\n",
    "    loss_ *= mask\n",
    "\n",
    "    return tf.reduce_mean(loss_)"
   ]
  },
  {
   "cell_type": "code",
   "execution_count": 23,
   "id": "08e4e691",
   "metadata": {},
   "outputs": [],
   "source": [
    "checkpoint_dir = './training_attention_checkpoints'\n",
    "checkpoint_prefix = os.path.join(checkpoint_dir, \"ckpt\")\n",
    "checkpoint = tf.train.Checkpoint(optimizer=optimizer,\n",
    "                                 encoder=encoder,\n",
    "                                 decoder=decoder)"
   ]
  },
  {
   "cell_type": "code",
   "execution_count": 24,
   "id": "79efe3fd",
   "metadata": {},
   "outputs": [],
   "source": [
    "@tf.function\n",
    "def train_step(inp, targ, enc_hidden):\n",
    "    loss = 0\n",
    "\n",
    "    with tf.GradientTape() as tape:\n",
    "        enc_output, enc_hidden = encoder(inp, enc_hidden)\n",
    "\n",
    "        dec_hidden = enc_hidden\n",
    "\n",
    "        dec_input = tf.expand_dims([targ_lang.word_index['<start>']] * BATCH_SIZE, 1)\n",
    "\n",
    "        # Teacher forcing - feeding the target as the next input\n",
    "        for t in range(1, targ.shape[1]):\n",
    "            # passing enc_output to the decoder\n",
    "            predictions, dec_hidden, _ = decoder(dec_input, dec_hidden, enc_output)\n",
    "            \n",
    "            loss += loss_function(targ[:, t], predictions)\n",
    "            \n",
    "            # using teacher forcing\n",
    "            \n",
    "            dec_input = tf.expand_dims(targ[:, t], 1)\n",
    "\n",
    "    batch_loss = (loss / int(targ.shape[1]))\n",
    "\n",
    "    variables = encoder.trainable_variables + decoder.trainable_variables\n",
    "\n",
    "    gradients = tape.gradient(loss, variables)\n",
    "\n",
    "    optimizer.apply_gradients(zip(gradients, variables))\n",
    "\n",
    "    return batch_loss"
   ]
  },
  {
   "cell_type": "code",
   "execution_count": 25,
   "id": "5aac532b",
   "metadata": {},
   "outputs": [
    {
     "name": "stdout",
     "output_type": "stream",
     "text": [
      "Epoch 1 Batch 0 Loss 4.6727\n",
      "Epoch 1 Batch 100 Loss 2.1352\n",
      "Epoch 1 Batch 200 Loss 1.9186\n",
      "Epoch 1 Batch 300 Loss 1.7454\n",
      "Epoch 1 Batch 400 Loss 1.6087\n",
      "Epoch 1 Batch 500 Loss 1.4623\n",
      "Epoch 1 Batch 600 Loss 1.4013\n",
      "Epoch 1 Batch 700 Loss 1.3587\n",
      "Epoch 1 Batch 800 Loss 1.1047\n",
      "Epoch 1 Batch 900 Loss 1.2480\n",
      "Epoch 1 Batch 1000 Loss 1.1465\n",
      "Epoch 1 Batch 1100 Loss 1.0617\n",
      "Epoch 1 Batch 1200 Loss 0.9869\n",
      "Epoch 1 Loss 1.4761\n",
      "Time taken for 1 epoch 1130.671314716339 sec\n",
      "\n",
      "Epoch 2 Batch 0 Loss 0.9636\n",
      "Epoch 2 Batch 100 Loss 0.8917\n",
      "Epoch 2 Batch 200 Loss 0.8279\n",
      "Epoch 2 Batch 300 Loss 0.7802\n",
      "Epoch 2 Batch 400 Loss 0.8271\n",
      "Epoch 2 Batch 500 Loss 0.6959\n",
      "Epoch 2 Batch 600 Loss 0.7424\n",
      "Epoch 2 Batch 700 Loss 0.6432\n",
      "Epoch 2 Batch 800 Loss 0.6595\n",
      "Epoch 2 Batch 900 Loss 0.5973\n",
      "Epoch 2 Batch 1000 Loss 0.5553\n",
      "Epoch 2 Batch 1100 Loss 0.5968\n",
      "Epoch 2 Batch 1200 Loss 0.5307\n",
      "Epoch 2 Loss 0.7117\n",
      "Time taken for 1 epoch 1106.9743678569794 sec\n",
      "\n",
      "Epoch 3 Batch 0 Loss 0.4329\n",
      "Epoch 3 Batch 100 Loss 0.3823\n",
      "Epoch 3 Batch 200 Loss 0.3414\n",
      "Epoch 3 Batch 300 Loss 0.4024\n",
      "Epoch 3 Batch 400 Loss 0.3600\n",
      "Epoch 3 Batch 500 Loss 0.2866\n",
      "Epoch 3 Batch 600 Loss 0.4253\n",
      "Epoch 3 Batch 700 Loss 0.4203\n",
      "Epoch 3 Batch 800 Loss 0.3072\n",
      "Epoch 3 Batch 900 Loss 0.3209\n",
      "Epoch 3 Batch 1000 Loss 0.4631\n",
      "Epoch 3 Batch 1100 Loss 0.3185\n",
      "Epoch 3 Batch 1200 Loss 0.3206\n",
      "Epoch 3 Loss 0.3707\n",
      "Time taken for 1 epoch 1099.2615354061127 sec\n",
      "\n",
      "Epoch 4 Batch 0 Loss 0.2510\n",
      "Epoch 4 Batch 100 Loss 0.1463\n",
      "Epoch 4 Batch 200 Loss 0.2048\n",
      "Epoch 4 Batch 300 Loss 0.2309\n",
      "Epoch 4 Batch 400 Loss 0.2343\n",
      "Epoch 4 Batch 500 Loss 0.2015\n",
      "Epoch 4 Batch 600 Loss 0.1770\n",
      "Epoch 4 Batch 700 Loss 0.2478\n",
      "Epoch 4 Batch 800 Loss 0.2138\n",
      "Epoch 4 Batch 900 Loss 0.2013\n",
      "Epoch 4 Batch 1000 Loss 0.2487\n",
      "Epoch 4 Batch 1100 Loss 0.2069\n",
      "Epoch 4 Batch 1200 Loss 0.2108\n",
      "Epoch 4 Loss 0.2218\n",
      "Time taken for 1 epoch 1094.4129333496094 sec\n",
      "\n",
      "Epoch 5 Batch 0 Loss 0.1207\n",
      "Epoch 5 Batch 100 Loss 0.1691\n",
      "Epoch 5 Batch 200 Loss 0.2069\n",
      "Epoch 5 Batch 300 Loss 0.1669\n",
      "Epoch 5 Batch 400 Loss 0.0915\n",
      "Epoch 5 Batch 500 Loss 0.1231\n",
      "Epoch 5 Batch 600 Loss 0.1778\n",
      "Epoch 5 Batch 700 Loss 0.1523\n",
      "Epoch 5 Batch 800 Loss 0.1304\n",
      "Epoch 5 Batch 900 Loss 0.1690\n",
      "Epoch 5 Batch 1000 Loss 0.1222\n",
      "Epoch 5 Batch 1100 Loss 0.1332\n",
      "Epoch 5 Batch 1200 Loss 0.1737\n",
      "Epoch 5 Loss 0.1516\n",
      "Time taken for 1 epoch 1091.4554970264435 sec\n",
      "\n",
      "Epoch 6 Batch 0 Loss 0.1062\n",
      "Epoch 6 Batch 100 Loss 0.0893\n",
      "Epoch 6 Batch 200 Loss 0.0610\n",
      "Epoch 6 Batch 300 Loss 0.0976\n",
      "Epoch 6 Batch 400 Loss 0.0956\n",
      "Epoch 6 Batch 500 Loss 0.1137\n",
      "Epoch 6 Batch 600 Loss 0.1413\n",
      "Epoch 6 Batch 700 Loss 0.1382\n",
      "Epoch 6 Batch 800 Loss 0.0927\n",
      "Epoch 6 Batch 900 Loss 0.1265\n",
      "Epoch 6 Batch 1000 Loss 0.1381\n",
      "Epoch 6 Batch 1100 Loss 0.1161\n",
      "Epoch 6 Batch 1200 Loss 0.1274\n",
      "Epoch 6 Loss 0.1172\n",
      "Time taken for 1 epoch 1095.5822324752808 sec\n",
      "\n",
      "Epoch 7 Batch 0 Loss 0.0803\n",
      "Epoch 7 Batch 100 Loss 0.1139\n",
      "Epoch 7 Batch 200 Loss 0.0799\n",
      "Epoch 7 Batch 300 Loss 0.0661\n",
      "Epoch 7 Batch 400 Loss 0.0607\n",
      "Epoch 7 Batch 500 Loss 0.0737\n",
      "Epoch 7 Batch 600 Loss 0.1388\n",
      "Epoch 7 Batch 700 Loss 0.0874\n",
      "Epoch 7 Batch 800 Loss 0.0874\n",
      "Epoch 7 Batch 900 Loss 0.1324\n",
      "Epoch 7 Batch 1000 Loss 0.0863\n",
      "Epoch 7 Batch 1100 Loss 0.1174\n",
      "Epoch 7 Batch 1200 Loss 0.1004\n",
      "Epoch 7 Loss 0.0991\n",
      "Time taken for 1 epoch 1098.8140268325806 sec\n",
      "\n",
      "Epoch 8 Batch 0 Loss 0.0855\n",
      "Epoch 8 Batch 100 Loss 0.0867\n",
      "Epoch 8 Batch 200 Loss 0.0579\n",
      "Epoch 8 Batch 300 Loss 0.0676\n",
      "Epoch 8 Batch 400 Loss 0.0613\n",
      "Epoch 8 Batch 500 Loss 0.1090\n",
      "Epoch 8 Batch 600 Loss 0.0832\n",
      "Epoch 8 Batch 700 Loss 0.1180\n",
      "Epoch 8 Batch 800 Loss 0.1403\n",
      "Epoch 8 Batch 900 Loss 0.1293\n",
      "Epoch 8 Batch 1000 Loss 0.1027\n",
      "Epoch 8 Batch 1100 Loss 0.0848\n",
      "Epoch 8 Batch 1200 Loss 0.1209\n",
      "Epoch 8 Loss 0.0887\n",
      "Time taken for 1 epoch 1094.238166809082 sec\n",
      "\n",
      "Epoch 9 Batch 0 Loss 0.0428\n",
      "Epoch 9 Batch 100 Loss 0.0690\n",
      "Epoch 9 Batch 200 Loss 0.1026\n",
      "Epoch 9 Batch 300 Loss 0.0400\n",
      "Epoch 9 Batch 400 Loss 0.0611\n",
      "Epoch 9 Batch 500 Loss 0.1006\n",
      "Epoch 9 Batch 600 Loss 0.0677\n",
      "Epoch 9 Batch 700 Loss 0.1324\n",
      "Epoch 9 Batch 800 Loss 0.0922\n",
      "Epoch 9 Batch 900 Loss 0.0755\n",
      "Epoch 9 Batch 1000 Loss 0.0930\n",
      "Epoch 9 Batch 1100 Loss 0.1457\n",
      "Epoch 9 Batch 1200 Loss 0.0861\n",
      "Epoch 9 Loss 0.0813\n",
      "Time taken for 1 epoch 1100.2811949253082 sec\n",
      "\n",
      "Epoch 10 Batch 0 Loss 0.0752\n",
      "Epoch 10 Batch 100 Loss 0.0542\n",
      "Epoch 10 Batch 200 Loss 0.0729\n",
      "Epoch 10 Batch 300 Loss 0.0501\n",
      "Epoch 10 Batch 400 Loss 0.0509\n",
      "Epoch 10 Batch 500 Loss 0.0606\n",
      "Epoch 10 Batch 600 Loss 0.0767\n",
      "Epoch 10 Batch 700 Loss 0.0893\n",
      "Epoch 10 Batch 800 Loss 0.0753\n",
      "Epoch 10 Batch 900 Loss 0.1080\n",
      "Epoch 10 Batch 1000 Loss 0.0771\n",
      "Epoch 10 Batch 1100 Loss 0.1170\n",
      "Epoch 10 Batch 1200 Loss 0.0794\n",
      "Epoch 10 Loss 0.0765\n",
      "Time taken for 1 epoch 1098.3458676338196 sec\n",
      "\n",
      "Epoch 11 Batch 0 Loss 0.0843\n",
      "Epoch 11 Batch 100 Loss 0.0601\n",
      "Epoch 11 Batch 200 Loss 0.0304\n",
      "Epoch 11 Batch 300 Loss 0.0476\n",
      "Epoch 11 Batch 400 Loss 0.0747\n",
      "Epoch 11 Batch 500 Loss 0.0328\n",
      "Epoch 11 Batch 600 Loss 0.0452\n",
      "Epoch 11 Batch 700 Loss 0.0972\n",
      "Epoch 11 Batch 800 Loss 0.0428\n",
      "Epoch 11 Batch 900 Loss 0.1104\n",
      "Epoch 11 Batch 1000 Loss 0.0731\n",
      "Epoch 11 Batch 1100 Loss 0.1146\n",
      "Epoch 11 Batch 1200 Loss 0.1149\n",
      "Epoch 11 Loss 0.0719\n",
      "Time taken for 1 epoch 1093.2574372291565 sec\n",
      "\n",
      "Epoch 12 Batch 0 Loss 0.0876\n",
      "Epoch 12 Batch 100 Loss 0.0733\n",
      "Epoch 12 Batch 200 Loss 0.0755\n",
      "Epoch 12 Batch 300 Loss 0.0638\n",
      "Epoch 12 Batch 400 Loss 0.0740\n",
      "Epoch 12 Batch 500 Loss 0.0976\n",
      "Epoch 12 Batch 600 Loss 0.0620\n",
      "Epoch 12 Batch 700 Loss 0.0765\n",
      "Epoch 12 Batch 800 Loss 0.0890\n",
      "Epoch 12 Batch 900 Loss 0.0847\n",
      "Epoch 12 Batch 1000 Loss 0.0824\n",
      "Epoch 12 Batch 1100 Loss 0.0553\n",
      "Epoch 12 Batch 1200 Loss 0.0715\n",
      "Epoch 12 Loss 0.0688\n",
      "Time taken for 1 epoch 1098.984696149826 sec\n",
      "\n",
      "Epoch 13 Batch 0 Loss 0.0390\n",
      "Epoch 13 Batch 100 Loss 0.0629\n",
      "Epoch 13 Batch 200 Loss 0.0668\n",
      "Epoch 13 Batch 300 Loss 0.0399\n",
      "Epoch 13 Batch 400 Loss 0.0555\n",
      "Epoch 13 Batch 500 Loss 0.0378\n",
      "Epoch 13 Batch 600 Loss 0.0742\n",
      "Epoch 13 Batch 700 Loss 0.0706\n",
      "Epoch 13 Batch 800 Loss 0.0749\n",
      "Epoch 13 Batch 900 Loss 0.0637\n",
      "Epoch 13 Batch 1000 Loss 0.0960\n",
      "Epoch 13 Batch 1100 Loss 0.0656\n",
      "Epoch 13 Batch 1200 Loss 0.0405\n",
      "Epoch 13 Loss 0.0677\n",
      "Time taken for 1 epoch 1101.3722455501556 sec\n",
      "\n",
      "Epoch 14 Batch 0 Loss 0.0490\n",
      "Epoch 14 Batch 100 Loss 0.0342\n",
      "Epoch 14 Batch 200 Loss 0.0668\n",
      "Epoch 14 Batch 300 Loss 0.0483\n",
      "Epoch 14 Batch 400 Loss 0.0883\n",
      "Epoch 14 Batch 500 Loss 0.0574\n",
      "Epoch 14 Batch 600 Loss 0.0507\n",
      "Epoch 14 Batch 700 Loss 0.0675\n",
      "Epoch 14 Batch 800 Loss 0.0788\n",
      "Epoch 14 Batch 900 Loss 0.0667\n",
      "Epoch 14 Batch 1000 Loss 0.0986\n",
      "Epoch 14 Batch 1100 Loss 0.0770\n",
      "Epoch 14 Batch 1200 Loss 0.0616\n",
      "Epoch 14 Loss 0.0639\n",
      "Time taken for 1 epoch 1099.7152903079987 sec\n",
      "\n",
      "Epoch 15 Batch 0 Loss 0.0726\n",
      "Epoch 15 Batch 100 Loss 0.0499\n",
      "Epoch 15 Batch 200 Loss 0.0367\n",
      "Epoch 15 Batch 300 Loss 0.0494\n",
      "Epoch 15 Batch 400 Loss 0.0455\n",
      "Epoch 15 Batch 500 Loss 0.0474\n",
      "Epoch 15 Batch 600 Loss 0.0457\n",
      "Epoch 15 Batch 700 Loss 0.0674\n",
      "Epoch 15 Batch 800 Loss 0.0700\n",
      "Epoch 15 Batch 900 Loss 0.0706\n",
      "Epoch 15 Batch 1000 Loss 0.0426\n",
      "Epoch 15 Batch 1100 Loss 0.0828\n",
      "Epoch 15 Batch 1200 Loss 0.1128\n",
      "Epoch 15 Loss 0.0623\n",
      "Time taken for 1 epoch 1103.9115769863129 sec\n",
      "\n",
      "Epoch 16 Batch 0 Loss 0.0697\n",
      "Epoch 16 Batch 100 Loss 0.0560\n",
      "Epoch 16 Batch 200 Loss 0.0419\n",
      "Epoch 16 Batch 300 Loss 0.0352\n",
      "Epoch 16 Batch 400 Loss 0.0643\n",
      "Epoch 16 Batch 500 Loss 0.0314\n",
      "Epoch 16 Batch 600 Loss 0.0666\n",
      "Epoch 16 Batch 700 Loss 0.0322\n",
      "Epoch 16 Batch 800 Loss 0.0905\n",
      "Epoch 16 Batch 900 Loss 0.0541\n",
      "Epoch 16 Batch 1000 Loss 0.1144\n",
      "Epoch 16 Batch 1100 Loss 0.0773\n",
      "Epoch 16 Batch 1200 Loss 0.0741\n",
      "Epoch 16 Loss 0.0604\n",
      "Time taken for 1 epoch 1095.140504360199 sec\n",
      "\n",
      "Epoch 17 Batch 0 Loss 0.0269\n",
      "Epoch 17 Batch 100 Loss 0.0329\n",
      "Epoch 17 Batch 200 Loss 0.0344\n",
      "Epoch 17 Batch 300 Loss 0.0616\n",
      "Epoch 17 Batch 400 Loss 0.0583\n",
      "Epoch 17 Batch 500 Loss 0.0392\n",
      "Epoch 17 Batch 600 Loss 0.0919\n",
      "Epoch 17 Batch 700 Loss 0.0907\n",
      "Epoch 17 Batch 800 Loss 0.0921\n",
      "Epoch 17 Batch 900 Loss 0.0647\n",
      "Epoch 17 Batch 1000 Loss 0.0541\n",
      "Epoch 17 Batch 1100 Loss 0.0908\n",
      "Epoch 17 Batch 1200 Loss 0.0678\n",
      "Epoch 17 Loss 0.0592\n",
      "Time taken for 1 epoch 1090.4159843921661 sec\n",
      "\n",
      "Epoch 18 Batch 0 Loss 0.0932\n",
      "Epoch 18 Batch 100 Loss 0.0455\n",
      "Epoch 18 Batch 200 Loss 0.0569\n",
      "Epoch 18 Batch 300 Loss 0.0890\n",
      "Epoch 18 Batch 400 Loss 0.0659\n",
      "Epoch 18 Batch 500 Loss 0.0683\n",
      "Epoch 18 Batch 600 Loss 0.0641\n",
      "Epoch 18 Batch 700 Loss 0.0519\n",
      "Epoch 18 Batch 800 Loss 0.0472\n",
      "Epoch 18 Batch 900 Loss 0.0767\n"
     ]
    },
    {
     "name": "stdout",
     "output_type": "stream",
     "text": [
      "Epoch 18 Batch 1000 Loss 0.0620\n",
      "Epoch 18 Batch 1100 Loss 0.0688\n",
      "Epoch 18 Batch 1200 Loss 0.0486\n",
      "Epoch 18 Loss 0.0568\n",
      "Time taken for 1 epoch 1099.8025221824646 sec\n",
      "\n",
      "Epoch 19 Batch 0 Loss 0.0597\n",
      "Epoch 19 Batch 100 Loss 0.0491\n",
      "Epoch 19 Batch 200 Loss 0.0823\n",
      "Epoch 19 Batch 300 Loss 0.0402\n",
      "Epoch 19 Batch 400 Loss 0.0248\n",
      "Epoch 19 Batch 500 Loss 0.0471\n",
      "Epoch 19 Batch 600 Loss 0.0377\n",
      "Epoch 19 Batch 700 Loss 0.0638\n",
      "Epoch 19 Batch 800 Loss 0.0371\n",
      "Epoch 19 Batch 900 Loss 0.0793\n",
      "Epoch 19 Batch 1000 Loss 0.0610\n",
      "Epoch 19 Batch 1100 Loss 0.0891\n",
      "Epoch 19 Batch 1200 Loss 0.0810\n",
      "Epoch 19 Loss 0.0558\n",
      "Time taken for 1 epoch 1090.2785241603851 sec\n",
      "\n",
      "Epoch 20 Batch 0 Loss 0.0313\n",
      "Epoch 20 Batch 100 Loss 0.0501\n",
      "Epoch 20 Batch 200 Loss 0.0312\n",
      "Epoch 20 Batch 300 Loss 0.0323\n",
      "Epoch 20 Batch 400 Loss 0.0418\n",
      "Epoch 20 Batch 500 Loss 0.0576\n",
      "Epoch 20 Batch 600 Loss 0.0608\n",
      "Epoch 20 Batch 700 Loss 0.0469\n",
      "Epoch 20 Batch 800 Loss 0.0607\n",
      "Epoch 20 Batch 900 Loss 0.0755\n",
      "Epoch 20 Batch 1000 Loss 0.0590\n",
      "Epoch 20 Batch 1100 Loss 0.0463\n",
      "Epoch 20 Batch 1200 Loss 0.0278\n",
      "Epoch 20 Loss 0.0557\n",
      "Time taken for 1 epoch 1091.1232736110687 sec\n",
      "\n",
      "Epoch 21 Batch 0 Loss 0.0492\n",
      "Epoch 21 Batch 100 Loss 0.0539\n",
      "Epoch 21 Batch 200 Loss 0.0356\n",
      "Epoch 21 Batch 300 Loss 0.0326\n",
      "Epoch 21 Batch 400 Loss 0.0305\n",
      "Epoch 21 Batch 500 Loss 0.0527\n",
      "Epoch 21 Batch 600 Loss 0.0352\n",
      "Epoch 21 Batch 700 Loss 0.0319\n",
      "Epoch 21 Batch 800 Loss 0.0533\n",
      "Epoch 21 Batch 900 Loss 0.0515\n",
      "Epoch 21 Batch 1000 Loss 0.0658\n",
      "Epoch 21 Batch 1100 Loss 0.0608\n",
      "Epoch 21 Batch 1200 Loss 0.0563\n",
      "Epoch 21 Loss 0.0528\n",
      "Time taken for 1 epoch 1093.9174103736877 sec\n",
      "\n",
      "Epoch 22 Batch 0 Loss 0.0671\n",
      "Epoch 22 Batch 100 Loss 0.0261\n",
      "Epoch 22 Batch 200 Loss 0.0339\n",
      "Epoch 22 Batch 300 Loss 0.0506\n",
      "Epoch 22 Batch 400 Loss 0.0540\n",
      "Epoch 22 Batch 500 Loss 0.0492\n",
      "Epoch 22 Batch 600 Loss 0.0414\n",
      "Epoch 22 Batch 700 Loss 0.0385\n",
      "Epoch 22 Batch 800 Loss 0.0533\n",
      "Epoch 22 Batch 900 Loss 0.0476\n",
      "Epoch 22 Batch 1000 Loss 0.0637\n",
      "Epoch 22 Batch 1100 Loss 0.0349\n",
      "Epoch 22 Batch 1200 Loss 0.0913\n",
      "Epoch 22 Loss 0.0522\n",
      "Time taken for 1 epoch 1104.067363500595 sec\n",
      "\n",
      "Epoch 23 Batch 0 Loss 0.0481\n",
      "Epoch 23 Batch 100 Loss 0.0757\n",
      "Epoch 23 Batch 200 Loss 0.0493\n",
      "Epoch 23 Batch 300 Loss 0.0438\n",
      "Epoch 23 Batch 400 Loss 0.0281\n",
      "Epoch 23 Batch 500 Loss 0.0384\n",
      "Epoch 23 Batch 600 Loss 0.0699\n",
      "Epoch 23 Batch 700 Loss 0.0688\n",
      "Epoch 23 Batch 800 Loss 0.0465\n",
      "Epoch 23 Batch 900 Loss 0.0906\n",
      "Epoch 23 Batch 1000 Loss 0.0898\n",
      "Epoch 23 Batch 1100 Loss 0.0528\n",
      "Epoch 23 Batch 1200 Loss 0.0486\n",
      "Epoch 23 Loss 0.0515\n",
      "Time taken for 1 epoch 1103.4090104103088 sec\n",
      "\n",
      "Epoch 24 Batch 0 Loss 0.0456\n",
      "Epoch 24 Batch 100 Loss 0.0239\n",
      "Epoch 24 Batch 200 Loss 0.0531\n",
      "Epoch 24 Batch 300 Loss 0.0610\n",
      "Epoch 24 Batch 400 Loss 0.0397\n",
      "Epoch 24 Batch 500 Loss 0.0582\n",
      "Epoch 24 Batch 600 Loss 0.0572\n",
      "Epoch 24 Batch 700 Loss 0.0603\n",
      "Epoch 24 Batch 800 Loss 0.0366\n",
      "Epoch 24 Batch 900 Loss 0.0339\n",
      "Epoch 24 Batch 1000 Loss 0.0543\n",
      "Epoch 24 Batch 1100 Loss 0.0678\n",
      "Epoch 24 Batch 1200 Loss 0.0854\n",
      "Epoch 24 Loss 0.0496\n",
      "Time taken for 1 epoch 1096.4969198703766 sec\n",
      "\n",
      "Epoch 25 Batch 0 Loss 0.0383\n",
      "Epoch 25 Batch 100 Loss 0.0359\n",
      "Epoch 25 Batch 200 Loss 0.0553\n",
      "Epoch 25 Batch 300 Loss 0.0638\n",
      "Epoch 25 Batch 400 Loss 0.0614\n",
      "Epoch 25 Batch 500 Loss 0.0423\n",
      "Epoch 25 Batch 600 Loss 0.0421\n",
      "Epoch 25 Batch 700 Loss 0.0415\n",
      "Epoch 25 Batch 800 Loss 0.0555\n",
      "Epoch 25 Batch 900 Loss 0.0742\n",
      "Epoch 25 Batch 1000 Loss 0.0558\n",
      "Epoch 25 Batch 1100 Loss 0.0445\n",
      "Epoch 25 Batch 1200 Loss 0.0649\n",
      "Epoch 25 Loss 0.0494\n",
      "Time taken for 1 epoch 1107.2289736270905 sec\n",
      "\n",
      "Epoch 26 Batch 0 Loss 0.0488\n",
      "Epoch 26 Batch 100 Loss 0.0279\n",
      "Epoch 26 Batch 200 Loss 0.0327\n",
      "Epoch 26 Batch 300 Loss 0.0355\n",
      "Epoch 26 Batch 400 Loss 0.0308\n",
      "Epoch 26 Batch 500 Loss 0.0251\n",
      "Epoch 26 Batch 600 Loss 0.0347\n",
      "Epoch 26 Batch 700 Loss 0.0334\n",
      "Epoch 26 Batch 800 Loss 0.0356\n",
      "Epoch 26 Batch 900 Loss 0.0624\n",
      "Epoch 26 Batch 1000 Loss 0.0680\n",
      "Epoch 26 Batch 1100 Loss 0.0613\n",
      "Epoch 26 Batch 1200 Loss 0.0559\n",
      "Epoch 26 Loss 0.0485\n",
      "Time taken for 1 epoch 1099.5607995986938 sec\n",
      "\n",
      "Epoch 27 Batch 0 Loss 0.0471\n",
      "Epoch 27 Batch 100 Loss 0.0367\n",
      "Epoch 27 Batch 200 Loss 0.0496\n",
      "Epoch 27 Batch 300 Loss 0.0579\n",
      "Epoch 27 Batch 400 Loss 0.0420\n",
      "Epoch 27 Batch 500 Loss 0.0480\n",
      "Epoch 27 Batch 600 Loss 0.0731\n",
      "Epoch 27 Batch 700 Loss 0.0523\n",
      "Epoch 27 Batch 800 Loss 0.0634\n",
      "Epoch 27 Batch 900 Loss 0.0372\n",
      "Epoch 27 Batch 1000 Loss 0.0578\n",
      "Epoch 27 Batch 1100 Loss 0.0536\n",
      "Epoch 27 Batch 1200 Loss 0.0459\n",
      "Epoch 27 Loss 0.0471\n",
      "Time taken for 1 epoch 1103.9584345817566 sec\n",
      "\n",
      "Epoch 28 Batch 0 Loss 0.0265\n",
      "Epoch 28 Batch 100 Loss 0.0464\n",
      "Epoch 28 Batch 200 Loss 0.0381\n",
      "Epoch 28 Batch 300 Loss 0.0255\n",
      "Epoch 28 Batch 400 Loss 0.0521\n",
      "Epoch 28 Batch 500 Loss 0.0534\n",
      "Epoch 28 Batch 600 Loss 0.0673\n",
      "Epoch 28 Batch 700 Loss 0.0503\n",
      "Epoch 28 Batch 800 Loss 0.0702\n",
      "Epoch 28 Batch 900 Loss 0.0770\n",
      "Epoch 28 Batch 1000 Loss 0.0354\n",
      "Epoch 28 Batch 1100 Loss 0.0550\n",
      "Epoch 28 Batch 1200 Loss 0.0550\n",
      "Epoch 28 Loss 0.0471\n",
      "Time taken for 1 epoch 1096.7506577968597 sec\n",
      "\n",
      "Epoch 29 Batch 0 Loss 0.0261\n",
      "Epoch 29 Batch 100 Loss 0.0370\n",
      "Epoch 29 Batch 200 Loss 0.0367\n",
      "Epoch 29 Batch 300 Loss 0.0419\n",
      "Epoch 29 Batch 400 Loss 0.0558\n",
      "Epoch 29 Batch 500 Loss 0.0382\n",
      "Epoch 29 Batch 600 Loss 0.0559\n",
      "Epoch 29 Batch 700 Loss 0.0778\n",
      "Epoch 29 Batch 800 Loss 0.0334\n",
      "Epoch 29 Batch 900 Loss 0.0706\n",
      "Epoch 29 Batch 1000 Loss 0.0700\n",
      "Epoch 29 Batch 1100 Loss 0.0607\n",
      "Epoch 29 Batch 1200 Loss 0.0535\n",
      "Epoch 29 Loss 0.0464\n",
      "Time taken for 1 epoch 1090.2513842582703 sec\n",
      "\n",
      "Epoch 30 Batch 0 Loss 0.0356\n",
      "Epoch 30 Batch 100 Loss 0.0327\n",
      "Epoch 30 Batch 200 Loss 0.0233\n",
      "Epoch 30 Batch 300 Loss 0.0458\n",
      "Epoch 30 Batch 400 Loss 0.0320\n",
      "Epoch 30 Batch 500 Loss 0.0522\n",
      "Epoch 30 Batch 600 Loss 0.0444\n",
      "Epoch 30 Batch 700 Loss 0.0387\n",
      "Epoch 30 Batch 800 Loss 0.0516\n",
      "Epoch 30 Batch 900 Loss 0.0491\n",
      "Epoch 30 Batch 1000 Loss 0.0434\n",
      "Epoch 30 Batch 1100 Loss 0.0804\n",
      "Epoch 30 Batch 1200 Loss 0.0451\n",
      "Epoch 30 Loss 0.0458\n",
      "Time taken for 1 epoch 1101.6364455223083 sec\n",
      "\n",
      "Epoch 31 Batch 0 Loss 0.0254\n",
      "Epoch 31 Batch 100 Loss 0.0486\n",
      "Epoch 31 Batch 200 Loss 0.0379\n",
      "Epoch 31 Batch 300 Loss 0.0563\n",
      "Epoch 31 Batch 400 Loss 0.0810\n",
      "Epoch 31 Batch 500 Loss 0.0805\n",
      "Epoch 31 Batch 600 Loss 0.0521\n",
      "Epoch 31 Batch 700 Loss 0.0544\n",
      "Epoch 31 Batch 800 Loss 0.0640\n",
      "Epoch 31 Batch 900 Loss 0.0514\n",
      "Epoch 31 Batch 1000 Loss 0.0516\n",
      "Epoch 31 Batch 1100 Loss 0.0624\n",
      "Epoch 31 Batch 1200 Loss 0.0675\n",
      "Epoch 31 Loss 0.0455\n",
      "Time taken for 1 epoch 1095.1976747512817 sec\n",
      "\n",
      "Epoch 32 Batch 0 Loss 0.0419\n",
      "Epoch 32 Batch 100 Loss 0.0206\n",
      "Epoch 32 Batch 200 Loss 0.0576\n",
      "Epoch 32 Batch 300 Loss 0.0325\n",
      "Epoch 32 Batch 400 Loss 0.0401\n",
      "Epoch 32 Batch 500 Loss 0.0548\n",
      "Epoch 32 Batch 600 Loss 0.0514\n",
      "Epoch 32 Batch 700 Loss 0.0636\n",
      "Epoch 32 Batch 800 Loss 0.0480\n",
      "Epoch 32 Batch 900 Loss 0.0577\n",
      "Epoch 32 Batch 1000 Loss 0.0376\n",
      "Epoch 32 Batch 1100 Loss 0.0269\n",
      "Epoch 32 Batch 1200 Loss 0.0381\n",
      "Epoch 32 Loss 0.0447\n",
      "Time taken for 1 epoch 1102.7372732162476 sec\n",
      "\n",
      "Epoch 33 Batch 0 Loss 0.0345\n",
      "Epoch 33 Batch 100 Loss 0.0501\n",
      "Epoch 33 Batch 200 Loss 0.0331\n",
      "Epoch 33 Batch 300 Loss 0.0313\n",
      "Epoch 33 Batch 400 Loss 0.0676\n",
      "Epoch 33 Batch 500 Loss 0.0332\n",
      "Epoch 33 Batch 600 Loss 0.0471\n",
      "Epoch 33 Batch 700 Loss 0.0386\n",
      "Epoch 33 Batch 800 Loss 0.0765\n",
      "Epoch 33 Batch 900 Loss 0.0468\n",
      "Epoch 33 Batch 1000 Loss 0.0471\n",
      "Epoch 33 Batch 1100 Loss 0.0641\n",
      "Epoch 33 Batch 1200 Loss 0.0580\n",
      "Epoch 33 Loss 0.0440\n",
      "Time taken for 1 epoch 1105.398741722107 sec\n",
      "\n",
      "Epoch 34 Batch 0 Loss 0.0356\n",
      "Epoch 34 Batch 100 Loss 0.0303\n",
      "Epoch 34 Batch 200 Loss 0.0120\n",
      "Epoch 34 Batch 300 Loss 0.0501\n",
      "Epoch 34 Batch 400 Loss 0.0240\n",
      "Epoch 34 Batch 500 Loss 0.0310\n",
      "Epoch 34 Batch 600 Loss 0.0457\n",
      "Epoch 34 Batch 700 Loss 0.0549\n",
      "Epoch 34 Batch 800 Loss 0.0296\n",
      "Epoch 34 Batch 900 Loss 0.0484\n",
      "Epoch 34 Batch 1000 Loss 0.0205\n",
      "Epoch 34 Batch 1100 Loss 0.0469\n",
      "Epoch 34 Batch 1200 Loss 0.0518\n",
      "Epoch 34 Loss 0.0432\n",
      "Time taken for 1 epoch 1102.5796229839325 sec\n",
      "\n",
      "Epoch 35 Batch 0 Loss 0.0240\n",
      "Epoch 35 Batch 100 Loss 0.0399\n",
      "Epoch 35 Batch 200 Loss 0.0492\n",
      "Epoch 35 Batch 300 Loss 0.0317\n",
      "Epoch 35 Batch 400 Loss 0.0727\n",
      "Epoch 35 Batch 500 Loss 0.0479\n",
      "Epoch 35 Batch 600 Loss 0.0525\n",
      "Epoch 35 Batch 700 Loss 0.0402\n",
      "Epoch 35 Batch 800 Loss 0.0359\n",
      "Epoch 35 Batch 900 Loss 0.0394\n",
      "Epoch 35 Batch 1000 Loss 0.0368\n",
      "Epoch 35 Batch 1100 Loss 0.0980\n",
      "Epoch 35 Batch 1200 Loss 0.0389\n",
      "Epoch 35 Loss 0.0423\n",
      "Time taken for 1 epoch 1087.7538132667542 sec\n",
      "\n",
      "Epoch 36 Batch 0 Loss 0.0355\n"
     ]
    },
    {
     "name": "stdout",
     "output_type": "stream",
     "text": [
      "Epoch 36 Batch 100 Loss 0.0422\n",
      "Epoch 36 Batch 200 Loss 0.0532\n",
      "Epoch 36 Batch 300 Loss 0.0232\n",
      "Epoch 36 Batch 400 Loss 0.0232\n",
      "Epoch 36 Batch 500 Loss 0.0493\n",
      "Epoch 36 Batch 600 Loss 0.0417\n",
      "Epoch 36 Batch 700 Loss 0.0252\n",
      "Epoch 36 Batch 800 Loss 0.0491\n",
      "Epoch 36 Batch 900 Loss 0.0320\n",
      "Epoch 36 Batch 1000 Loss 0.0538\n",
      "Epoch 36 Batch 1100 Loss 0.0272\n",
      "Epoch 36 Batch 1200 Loss 0.0343\n",
      "Epoch 36 Loss 0.0429\n",
      "Time taken for 1 epoch 1099.4229640960693 sec\n",
      "\n",
      "Epoch 37 Batch 0 Loss 0.0412\n",
      "Epoch 37 Batch 100 Loss 0.0361\n",
      "Epoch 37 Batch 200 Loss 0.0360\n",
      "Epoch 37 Batch 300 Loss 0.0194\n",
      "Epoch 37 Batch 400 Loss 0.0536\n",
      "Epoch 37 Batch 500 Loss 0.0340\n",
      "Epoch 37 Batch 600 Loss 0.0292\n",
      "Epoch 37 Batch 700 Loss 0.0414\n",
      "Epoch 37 Batch 800 Loss 0.0336\n",
      "Epoch 37 Batch 900 Loss 0.0360\n",
      "Epoch 37 Batch 1000 Loss 0.0375\n",
      "Epoch 37 Batch 1100 Loss 0.0559\n",
      "Epoch 37 Batch 1200 Loss 0.0584\n",
      "Epoch 37 Loss 0.0422\n",
      "Time taken for 1 epoch 1094.224983215332 sec\n",
      "\n",
      "Epoch 38 Batch 0 Loss 0.0258\n",
      "Epoch 38 Batch 100 Loss 0.0265\n",
      "Epoch 38 Batch 200 Loss 0.0319\n",
      "Epoch 38 Batch 300 Loss 0.0390\n",
      "Epoch 38 Batch 400 Loss 0.0337\n",
      "Epoch 38 Batch 500 Loss 0.0369\n",
      "Epoch 38 Batch 600 Loss 0.0243\n",
      "Epoch 38 Batch 700 Loss 0.0482\n",
      "Epoch 38 Batch 800 Loss 0.0542\n",
      "Epoch 38 Batch 900 Loss 0.0748\n",
      "Epoch 38 Batch 1000 Loss 0.0466\n",
      "Epoch 38 Batch 1100 Loss 0.0785\n",
      "Epoch 38 Batch 1200 Loss 0.0522\n",
      "Epoch 38 Loss 0.0411\n",
      "Time taken for 1 epoch 1101.047975063324 sec\n",
      "\n",
      "Epoch 39 Batch 0 Loss 0.0319\n",
      "Epoch 39 Batch 100 Loss 0.0422\n",
      "Epoch 39 Batch 200 Loss 0.0282\n",
      "Epoch 39 Batch 300 Loss 0.0284\n",
      "Epoch 39 Batch 400 Loss 0.0479\n",
      "Epoch 39 Batch 500 Loss 0.0463\n",
      "Epoch 39 Batch 600 Loss 0.0409\n",
      "Epoch 39 Batch 700 Loss 0.0652\n",
      "Epoch 39 Batch 800 Loss 0.0423\n",
      "Epoch 39 Batch 900 Loss 0.0321\n",
      "Epoch 39 Batch 1000 Loss 0.0208\n",
      "Epoch 39 Batch 1100 Loss 0.0480\n",
      "Epoch 39 Batch 1200 Loss 0.0457\n",
      "Epoch 39 Loss 0.0415\n",
      "Time taken for 1 epoch 1099.18767952919 sec\n",
      "\n",
      "Epoch 40 Batch 0 Loss 0.0235\n",
      "Epoch 40 Batch 100 Loss 0.0451\n",
      "Epoch 40 Batch 200 Loss 0.0304\n",
      "Epoch 40 Batch 300 Loss 0.0383\n",
      "Epoch 40 Batch 400 Loss 0.0234\n",
      "Epoch 40 Batch 500 Loss 0.0497\n",
      "Epoch 40 Batch 600 Loss 0.0356\n",
      "Epoch 40 Batch 700 Loss 0.0433\n",
      "Epoch 40 Batch 800 Loss 0.0420\n",
      "Epoch 40 Batch 900 Loss 0.0529\n",
      "Epoch 40 Batch 1000 Loss 0.0573\n",
      "Epoch 40 Batch 1100 Loss 0.0433\n",
      "Epoch 40 Batch 1200 Loss 0.0556\n",
      "Epoch 40 Loss 0.0408\n",
      "Time taken for 1 epoch 1091.5508716106415 sec\n",
      "\n",
      "Epoch 41 Batch 0 Loss 0.0320\n",
      "Epoch 41 Batch 100 Loss 0.0233\n",
      "Epoch 41 Batch 200 Loss 0.0242\n",
      "Epoch 41 Batch 300 Loss 0.0273\n",
      "Epoch 41 Batch 400 Loss 0.0390\n",
      "Epoch 41 Batch 500 Loss 0.0490\n",
      "Epoch 41 Batch 600 Loss 0.0334\n",
      "Epoch 41 Batch 700 Loss 0.0347\n",
      "Epoch 41 Batch 800 Loss 0.0542\n",
      "Epoch 41 Batch 900 Loss 0.0285\n",
      "Epoch 41 Batch 1000 Loss 0.0824\n",
      "Epoch 41 Batch 1100 Loss 0.0446\n",
      "Epoch 41 Batch 1200 Loss 0.0515\n",
      "Epoch 41 Loss 0.0411\n",
      "Time taken for 1 epoch 1088.081020116806 sec\n",
      "\n",
      "Epoch 42 Batch 0 Loss 0.0291\n",
      "Epoch 42 Batch 100 Loss 0.0407\n",
      "Epoch 42 Batch 200 Loss 0.0435\n",
      "Epoch 42 Batch 300 Loss 0.0333\n",
      "Epoch 42 Batch 400 Loss 0.0364\n",
      "Epoch 42 Batch 500 Loss 0.0234\n",
      "Epoch 42 Batch 600 Loss 0.0580\n",
      "Epoch 42 Batch 700 Loss 0.0596\n",
      "Epoch 42 Batch 800 Loss 0.0444\n",
      "Epoch 42 Batch 900 Loss 0.0434\n",
      "Epoch 42 Batch 1000 Loss 0.0513\n",
      "Epoch 42 Batch 1100 Loss 0.0379\n",
      "Epoch 42 Batch 1200 Loss 0.0483\n",
      "Epoch 42 Loss 0.0403\n",
      "Time taken for 1 epoch 1090.2666375637054 sec\n",
      "\n",
      "Epoch 43 Batch 0 Loss 0.0269\n",
      "Epoch 43 Batch 100 Loss 0.0470\n",
      "Epoch 43 Batch 200 Loss 0.0234\n",
      "Epoch 43 Batch 300 Loss 0.0462\n",
      "Epoch 43 Batch 400 Loss 0.0408\n",
      "Epoch 43 Batch 500 Loss 0.0594\n",
      "Epoch 43 Batch 600 Loss 0.0495\n",
      "Epoch 43 Batch 700 Loss 0.0553\n",
      "Epoch 43 Batch 800 Loss 0.0458\n",
      "Epoch 43 Batch 900 Loss 0.0375\n",
      "Epoch 43 Batch 1000 Loss 0.0332\n",
      "Epoch 43 Batch 1100 Loss 0.0524\n",
      "Epoch 43 Batch 1200 Loss 0.0479\n",
      "Epoch 43 Loss 0.0400\n",
      "Time taken for 1 epoch 1101.4607965946198 sec\n",
      "\n",
      "Epoch 44 Batch 0 Loss 0.0201\n",
      "Epoch 44 Batch 100 Loss 0.0627\n",
      "Epoch 44 Batch 200 Loss 0.0284\n",
      "Epoch 44 Batch 300 Loss 0.0374\n",
      "Epoch 44 Batch 400 Loss 0.0511\n",
      "Epoch 44 Batch 500 Loss 0.0349\n",
      "Epoch 44 Batch 600 Loss 0.0445\n",
      "Epoch 44 Batch 700 Loss 0.0385\n",
      "Epoch 44 Batch 800 Loss 0.0625\n",
      "Epoch 44 Batch 900 Loss 0.0526\n",
      "Epoch 44 Batch 1000 Loss 0.0446\n",
      "Epoch 44 Batch 1100 Loss 0.0567\n",
      "Epoch 44 Batch 1200 Loss 0.0289\n",
      "Epoch 44 Loss 0.0415\n",
      "Time taken for 1 epoch 1103.7726881504059 sec\n",
      "\n",
      "Epoch 45 Batch 0 Loss 0.0357\n",
      "Epoch 45 Batch 100 Loss 0.0265\n",
      "Epoch 45 Batch 200 Loss 0.0245\n",
      "Epoch 45 Batch 300 Loss 0.0201\n",
      "Epoch 45 Batch 400 Loss 0.0288\n",
      "Epoch 45 Batch 500 Loss 0.0505\n",
      "Epoch 45 Batch 600 Loss 0.0340\n",
      "Epoch 45 Batch 700 Loss 0.0366\n",
      "Epoch 45 Batch 800 Loss 0.0350\n",
      "Epoch 45 Batch 900 Loss 0.0262\n",
      "Epoch 45 Batch 1000 Loss 0.0681\n",
      "Epoch 45 Batch 1100 Loss 0.0407\n",
      "Epoch 45 Batch 1200 Loss 0.0394\n",
      "Epoch 45 Loss 0.0403\n",
      "Time taken for 1 epoch 1101.7853395938873 sec\n",
      "\n",
      "Epoch 46 Batch 0 Loss 0.0195\n",
      "Epoch 46 Batch 100 Loss 0.0447\n",
      "Epoch 46 Batch 200 Loss 0.0490\n",
      "Epoch 46 Batch 300 Loss 0.0377\n",
      "Epoch 46 Batch 400 Loss 0.0441\n",
      "Epoch 46 Batch 500 Loss 0.0223\n",
      "Epoch 46 Batch 600 Loss 0.0298\n",
      "Epoch 46 Batch 700 Loss 0.0369\n",
      "Epoch 46 Batch 800 Loss 0.0266\n",
      "Epoch 46 Batch 900 Loss 0.0273\n",
      "Epoch 46 Batch 1000 Loss 0.0277\n",
      "Epoch 46 Batch 1100 Loss 0.0593\n",
      "Epoch 46 Batch 1200 Loss 0.0439\n",
      "Epoch 46 Loss 0.0382\n",
      "Time taken for 1 epoch 1113.700481891632 sec\n",
      "\n",
      "Epoch 47 Batch 0 Loss 0.0162\n",
      "Epoch 47 Batch 100 Loss 0.0188\n",
      "Epoch 47 Batch 200 Loss 0.0324\n",
      "Epoch 47 Batch 300 Loss 0.0323\n",
      "Epoch 47 Batch 400 Loss 0.0452\n",
      "Epoch 47 Batch 500 Loss 0.0638\n",
      "Epoch 47 Batch 600 Loss 0.0373\n",
      "Epoch 47 Batch 700 Loss 0.0259\n",
      "Epoch 47 Batch 800 Loss 0.0300\n",
      "Epoch 47 Batch 900 Loss 0.0627\n",
      "Epoch 47 Batch 1000 Loss 0.0288\n",
      "Epoch 47 Batch 1100 Loss 0.0310\n",
      "Epoch 47 Batch 1200 Loss 0.0411\n",
      "Epoch 47 Loss 0.0382\n",
      "Time taken for 1 epoch 1110.0001804828644 sec\n",
      "\n",
      "Epoch 48 Batch 0 Loss 0.0290\n",
      "Epoch 48 Batch 100 Loss 0.0234\n",
      "Epoch 48 Batch 200 Loss 0.0404\n",
      "Epoch 48 Batch 300 Loss 0.0380\n",
      "Epoch 48 Batch 400 Loss 0.0349\n",
      "Epoch 48 Batch 500 Loss 0.0567\n",
      "Epoch 48 Batch 600 Loss 0.0293\n",
      "Epoch 48 Batch 700 Loss 0.0418\n",
      "Epoch 48 Batch 800 Loss 0.0417\n",
      "Epoch 48 Batch 900 Loss 0.0437\n",
      "Epoch 48 Batch 1000 Loss 0.0404\n",
      "Epoch 48 Batch 1100 Loss 0.0424\n",
      "Epoch 48 Batch 1200 Loss 0.0441\n",
      "Epoch 48 Loss 0.0390\n",
      "Time taken for 1 epoch 1102.6281480789185 sec\n",
      "\n",
      "Epoch 49 Batch 0 Loss 0.0257\n",
      "Epoch 49 Batch 100 Loss 0.0212\n",
      "Epoch 49 Batch 200 Loss 0.0221\n",
      "Epoch 49 Batch 300 Loss 0.0188\n",
      "Epoch 49 Batch 400 Loss 0.0175\n",
      "Epoch 49 Batch 500 Loss 0.0293\n",
      "Epoch 49 Batch 600 Loss 0.0394\n",
      "Epoch 49 Batch 700 Loss 0.0471\n",
      "Epoch 49 Batch 800 Loss 0.0408\n",
      "Epoch 49 Batch 900 Loss 0.0450\n",
      "Epoch 49 Batch 1000 Loss 0.0635\n",
      "Epoch 49 Batch 1100 Loss 0.0356\n",
      "Epoch 49 Batch 1200 Loss 0.0501\n",
      "Epoch 49 Loss 0.0392\n",
      "Time taken for 1 epoch 1102.4779570102692 sec\n",
      "\n",
      "Epoch 50 Batch 0 Loss 0.0470\n",
      "Epoch 50 Batch 100 Loss 0.0365\n",
      "Epoch 50 Batch 200 Loss 0.0162\n",
      "Epoch 50 Batch 300 Loss 0.0420\n",
      "Epoch 50 Batch 400 Loss 0.0214\n",
      "Epoch 50 Batch 500 Loss 0.0323\n",
      "Epoch 50 Batch 600 Loss 0.0281\n",
      "Epoch 50 Batch 700 Loss 0.0222\n",
      "Epoch 50 Batch 800 Loss 0.0408\n",
      "Epoch 50 Batch 900 Loss 0.0231\n",
      "Epoch 50 Batch 1000 Loss 0.0399\n",
      "Epoch 50 Batch 1100 Loss 0.0265\n",
      "Epoch 50 Batch 1200 Loss 0.0328\n",
      "Epoch 50 Loss 0.0390\n",
      "Time taken for 1 epoch 1098.728997707367 sec\n",
      "\n"
     ]
    }
   ],
   "source": [
    "EPOCHS = 50\n",
    "\n",
    "for epoch in range(EPOCHS):\n",
    "    start = time.time()\n",
    "\n",
    "    enc_hidden = encoder.initialize_hidden_state()\n",
    "    total_loss = 0\n",
    "\n",
    "    for (batch, (inp, targ)) in enumerate(dataset.take(steps_per_epoch)):\n",
    "        batch_loss = train_step(inp, targ, enc_hidden)\n",
    "        total_loss += batch_loss\n",
    "\n",
    "        if batch % 100 == 0:\n",
    "            print('Epoch {} Batch {} Loss {:.4f}'.format(epoch + 1,\n",
    "                                                       batch,\n",
    "                                                       batch_loss.numpy()))\n",
    "      # saving (checkpoint) the model every 2 epochs\n",
    "    if (epoch + 1) % 2 == 0:\n",
    "        checkpoint.save(file_prefix = checkpoint_prefix)\n",
    "\n",
    "    print('Epoch {} Loss {:.4f}'.format(epoch + 1,\n",
    "                                      total_loss / steps_per_epoch))\n",
    "    print('Time taken for 1 epoch {} sec\\n'.format(time.time() - start))"
   ]
  },
  {
   "cell_type": "code",
   "execution_count": 26,
   "id": "d941f747",
   "metadata": {},
   "outputs": [],
   "source": [
    "def evaluate(sentence):\n",
    "    attention_plot = np.zeros((max_length_targ, max_length_inp))\n",
    "\n",
    "    sentence = preprocess_sentence(sentence)\n",
    "\n",
    "    inputs = [inp_lang.word_index[i] for i in sentence.split(' ')]\n",
    "    inputs = tf.keras.preprocessing.sequence.pad_sequences([inputs],\n",
    "                                                         maxlen=max_length_inp,\n",
    "                                                         padding='post')\n",
    "    inputs = tf.convert_to_tensor(inputs)\n",
    "\n",
    "    result = ''\n",
    "\n",
    "    hidden = [tf.zeros((1, units))]\n",
    "    enc_out, enc_hidden = encoder(inputs, hidden)\n",
    "\n",
    "    dec_hidden = enc_hidden\n",
    "    dec_input = tf.expand_dims([targ_lang.word_index['<start>']], 0)\n",
    "\n",
    "    for t in range(max_length_targ):\n",
    "        predictions, dec_hidden, attention_weights = decoder(dec_input,\n",
    "                                                             dec_hidden,\n",
    "                                                             enc_out)\n",
    "\n",
    "        # storing the attention weights to plot later on\n",
    "        attention_weights = tf.reshape(attention_weights, (-1, ))\n",
    "        attention_plot[t] = attention_weights.numpy()\n",
    "\n",
    "        predicted_id = tf.argmax(predictions[0]).numpy()\n",
    "\n",
    "        result += targ_lang.index_word[predicted_id] + ' '\n",
    "\n",
    "        if targ_lang.index_word[predicted_id] == '<end>':\n",
    "            return result, sentence, attention_plot\n",
    "        \n",
    "        # the predicted ID is fed back into the model\n",
    "        dec_input = tf.expand_dims([predicted_id], 0)\n",
    "\n",
    "    return result, sentence, attention_plot"
   ]
  },
  {
   "cell_type": "code",
   "execution_count": 27,
   "id": "cce36cc6",
   "metadata": {},
   "outputs": [],
   "source": [
    "# function for plotting the attention weights\n",
    "def plot_attention(attention, sentence, predicted_sentence):\n",
    "    fig = plt.figure(figsize=(10,10))\n",
    "    ax = fig.add_subplot(1, 1, 1)\n",
    "    ax.matshow(attention, cmap='viridis')\n",
    "\n",
    "    fontdict = {'fontsize': 14}\n",
    "\n",
    "    ax.set_xticklabels([''] + sentence, fontdict=fontdict, rotation=90)\n",
    "    ax.set_yticklabels([''] + predicted_sentence, fontdict=fontdict)\n",
    "\n",
    "    ax.xaxis.set_major_locator(ticker.MultipleLocator(1))\n",
    "    ax.yaxis.set_major_locator(ticker.MultipleLocator(1))\n",
    "\n",
    "    plt.show()"
   ]
  },
  {
   "cell_type": "code",
   "execution_count": 29,
   "id": "76a9930b",
   "metadata": {},
   "outputs": [],
   "source": [
    "def translate(sentence):\n",
    "    result, sentence, attention_plot = evaluate(sentence)\n",
    "\n",
    "    print('Input: %s' % (sentence))\n",
    "    print('Predicted translation: {}'.format(result))\n",
    "\n",
    "    attention_plot = attention_plot[:len(result.split(' ')), :len(sentence.split(' '))]\n",
    "    plot_attention(attention_plot, sentence.split(' '), result.split(' '))"
   ]
  },
  {
   "cell_type": "code",
   "execution_count": 30,
   "id": "d74ceafe",
   "metadata": {},
   "outputs": [
    {
     "data": {
      "text/plain": [
       "<tensorflow.python.training.tracking.util.CheckpointLoadStatus at 0x7f6cc720d710>"
      ]
     },
     "execution_count": 30,
     "metadata": {},
     "output_type": "execute_result"
    }
   ],
   "source": [
    "# restoring the latest checkpoint in checkpoint_dir\n",
    "checkpoint.restore(tf.train.latest_checkpoint(checkpoint_dir))"
   ]
  },
  {
   "cell_type": "code",
   "execution_count": 55,
   "id": "d9fd6abf",
   "metadata": {},
   "outputs": [
    {
     "name": "stdout",
     "output_type": "stream",
     "text": [
      "Input: <start> всем привет . <end>\n",
      "Predicted translation: hi , everybody . <end> \n"
     ]
    },
    {
     "name": "stderr",
     "output_type": "stream",
     "text": [
      "/home/alex/miniconda3/envs/py36/lib/python3.6/site-packages/ipykernel_launcher.py:9: UserWarning: FixedFormatter should only be used together with FixedLocator\n",
      "  if __name__ == '__main__':\n",
      "/home/alex/miniconda3/envs/py36/lib/python3.6/site-packages/ipykernel_launcher.py:10: UserWarning: FixedFormatter should only be used together with FixedLocator\n",
      "  # Remove the CWD from sys.path while we load stuff.\n"
     ]
    },
    {
     "data": {
      "image/png": "[encoded data removed]",
      "text/plain": [
       "<Figure size 720x720 with 1 Axes>"
      ]
     },
     "metadata": {
      "needs_background": "light"
     },
     "output_type": "display_data"
    }
   ],
   "source": [
    "translate('Всем привет.')"
   ]
  },
  {
   "cell_type": "code",
   "execution_count": 56,
   "id": "e74db8ec",
   "metadata": {},
   "outputs": [
    {
     "name": "stdout",
     "output_type": "stream",
     "text": [
      "Input: <start> я сижу и делаю работу <end>\n",
      "Predicted translation: i'm doing my work . <end> \n"
     ]
    },
    {
     "name": "stderr",
     "output_type": "stream",
     "text": [
      "/home/alex/miniconda3/envs/py36/lib/python3.6/site-packages/ipykernel_launcher.py:9: UserWarning: FixedFormatter should only be used together with FixedLocator\n",
      "  if __name__ == '__main__':\n",
      "/home/alex/miniconda3/envs/py36/lib/python3.6/site-packages/ipykernel_launcher.py:10: UserWarning: FixedFormatter should only be used together with FixedLocator\n",
      "  # Remove the CWD from sys.path while we load stuff.\n"
     ]
    },
    {
     "data": {
      "image/png": "[encoded data removed]",
      "text/plain": [
       "<Figure size 720x720 with 1 Axes>"
      ]
     },
     "metadata": {
      "needs_background": "light"
     },
     "output_type": "display_data"
    }
   ],
   "source": [
    "translate('Я сижу и делаю работу')"
   ]
  },
  {
   "cell_type": "code",
   "execution_count": 57,
   "id": "f783392b",
   "metadata": {},
   "outputs": [
    {
     "name": "stdout",
     "output_type": "stream",
     "text": [
      "Input: <start> мы запустим у себя такую же систему <end>\n",
      "Predicted translation: we really end . <end> \n"
     ]
    },
    {
     "name": "stderr",
     "output_type": "stream",
     "text": [
      "/home/alex/miniconda3/envs/py36/lib/python3.6/site-packages/ipykernel_launcher.py:9: UserWarning: FixedFormatter should only be used together with FixedLocator\n",
      "  if __name__ == '__main__':\n",
      "/home/alex/miniconda3/envs/py36/lib/python3.6/site-packages/ipykernel_launcher.py:10: UserWarning: FixedFormatter should only be used together with FixedLocator\n",
      "  # Remove the CWD from sys.path while we load stuff.\n"
     ]
    },
    {
     "data": {
      "image/png": "[encoded data removed]",
      "text/plain": [
       "<Figure size 720x720 with 1 Axes>"
      ]
     },
     "metadata": {
      "needs_background": "light"
     },
     "output_type": "display_data"
    }
   ],
   "source": [
    "translate('Мы запустим у себя такую же систему')"
   ]
  },
  {
   "cell_type": "code",
   "execution_count": 58,
   "id": "d34de955",
   "metadata": {},
   "outputs": [
    {
     "name": "stdout",
     "output_type": "stream",
     "text": [
      "Input: <start> я хочу тебе позвонить <end>\n",
      "Predicted translation: i want to call you ? <end> \n"
     ]
    },
    {
     "name": "stderr",
     "output_type": "stream",
     "text": [
      "/home/alex/miniconda3/envs/py36/lib/python3.6/site-packages/ipykernel_launcher.py:9: UserWarning: FixedFormatter should only be used together with FixedLocator\n",
      "  if __name__ == '__main__':\n",
      "/home/alex/miniconda3/envs/py36/lib/python3.6/site-packages/ipykernel_launcher.py:10: UserWarning: FixedFormatter should only be used together with FixedLocator\n",
      "  # Remove the CWD from sys.path while we load stuff.\n"
     ]
    },
    {
     "data": {
      "image/png": "[encoded data removed]",
      "text/plain": [
       "<Figure size 720x720 with 1 Axes>"
      ]
     },
     "metadata": {
      "needs_background": "light"
     },
     "output_type": "display_data"
    }
   ],
   "source": [
    "translate('я хочу тебе позвонить')"
   ]
  },
  {
   "cell_type": "code",
   "execution_count": 59,
   "id": "0e5a4a8d",
   "metadata": {},
   "outputs": [
    {
     "name": "stdout",
     "output_type": "stream",
     "text": [
      "Input: <start> вопросы по теме занятия можно задать <end>\n",
      "Predicted translation: let no arm come out . <end> \n"
     ]
    },
    {
     "name": "stderr",
     "output_type": "stream",
     "text": [
      "/home/alex/miniconda3/envs/py36/lib/python3.6/site-packages/ipykernel_launcher.py:9: UserWarning: FixedFormatter should only be used together with FixedLocator\n",
      "  if __name__ == '__main__':\n",
      "/home/alex/miniconda3/envs/py36/lib/python3.6/site-packages/ipykernel_launcher.py:10: UserWarning: FixedFormatter should only be used together with FixedLocator\n",
      "  # Remove the CWD from sys.path while we load stuff.\n"
     ]
    },
    {
     "data": {
      "image/png": "[encoded data removed]",
      "text/plain": [
       "<Figure size 720x720 with 1 Axes>"
      ]
     },
     "metadata": {
      "needs_background": "light"
     },
     "output_type": "display_data"
    }
   ],
   "source": [
    "translate('Вопросы по теме занятия можно задать')"
   ]
  },
  {
   "cell_type": "code",
   "execution_count": 47,
   "id": "bf9d987e",
   "metadata": {},
   "outputs": [
    {
     "name": "stdout",
     "output_type": "stream",
     "text": [
      "Input: <start> она отказала , мужчина уш л ни с чем , но через некоторое время вернулся , чтобы отомстить . <end>\n",
      "Predicted translation: i had no such to get was left . <end> \n"
     ]
    },
    {
     "name": "stderr",
     "output_type": "stream",
     "text": [
      "/home/alex/miniconda3/envs/py36/lib/python3.6/site-packages/ipykernel_launcher.py:9: UserWarning: FixedFormatter should only be used together with FixedLocator\n",
      "  if __name__ == '__main__':\n",
      "/home/alex/miniconda3/envs/py36/lib/python3.6/site-packages/ipykernel_launcher.py:10: UserWarning: FixedFormatter should only be used together with FixedLocator\n",
      "  # Remove the CWD from sys.path while we load stuff.\n"
     ]
    },
    {
     "data": {
      "image/png": "[encoded data removed]",
      "text/plain": [
       "<Figure size 720x720 with 1 Axes>"
      ]
     },
     "metadata": {
      "needs_background": "light"
     },
     "output_type": "display_data"
    }
   ],
   "source": [
    "translate('Она отказала, мужчина ушёл ни с чем, но через некоторое время вернулся, чтобы отомстить.')"
   ]
  },
  {
   "cell_type": "code",
   "execution_count": 61,
   "id": "b64a2430",
   "metadata": {},
   "outputs": [
    {
     "name": "stdout",
     "output_type": "stream",
     "text": [
      "Input: <start> результат для большого числа слов плохой <end>\n",
      "Predicted translation: no one is for sure . <end> \n"
     ]
    },
    {
     "name": "stderr",
     "output_type": "stream",
     "text": [
      "/home/alex/miniconda3/envs/py36/lib/python3.6/site-packages/ipykernel_launcher.py:9: UserWarning: FixedFormatter should only be used together with FixedLocator\n",
      "  if __name__ == '__main__':\n",
      "/home/alex/miniconda3/envs/py36/lib/python3.6/site-packages/ipykernel_launcher.py:10: UserWarning: FixedFormatter should only be used together with FixedLocator\n",
      "  # Remove the CWD from sys.path while we load stuff.\n"
     ]
    },
    {
     "data": {
      "image/png": "[encoded data removed]",
      "text/plain": [
       "<Figure size 720x720 with 1 Axes>"
      ]
     },
     "metadata": {
      "needs_background": "light"
     },
     "output_type": "display_data"
    }
   ],
   "source": [
    "translate('Результат для большого числа слов плохой')"
   ]
  },
  {
   "cell_type": "code",
   "execution_count": null,
   "id": "6ceebc3a",
   "metadata": {},
   "outputs": [],
   "source": []
  }
 ],
 "metadata": {
  "kernelspec": {
   "display_name": "Python 3",
   "language": "python",
   "name": "python3"
  },
  "language_info": {
   "codemirror_mode": {
    "name": "ipython",
    "version": 3
   },
   "file_extension": ".py",
   "mimetype": "text/x-python",
   "name": "python",
   "nbconvert_exporter": "python",
   "pygments_lexer": "ipython3",
   "version": "3.6.13"
  }
 },
 "nbformat": 4,
 "nbformat_minor": 5
}
