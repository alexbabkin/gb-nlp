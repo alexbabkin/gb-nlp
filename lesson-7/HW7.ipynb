{
 "cells": [
  {
   "cell_type": "markdown",
   "id": "80f97f51",
   "metadata": {},
   "source": [
    "# Задание\n",
    "\n",
    "1. Учим conv сеть для классификации\n",
    "2. Рассмотреть 2-а варианта сеточек  \n",
    "    2.1 Инициализировать tf.keras.layers.Embedding предобученными векторами взять к примеру с https://rusvectores.org/ru/  \n",
    "    2.2 Инициализировать слой tf.keras.layers.Embedding по умолчанию (ну то есть вам ничего не делать с весами)\n",
    "\n",
    "Сравнить две архитектуры с предобученными весами и когда tf.keras.layers.Embedding обучается сразу со всей сеточкой, что получилось лучше"
   ]
  },
  {
   "cell_type": "code",
   "execution_count": 33,
   "id": "a851d9b7",
   "metadata": {},
   "outputs": [],
   "source": [
    "import numpy as np\n",
    "import pandas as pd\n",
    "from string import punctuation\n",
    "from nltk.corpus import stopwords\n",
    "from pymorphy2 import MorphAnalyzer\n",
    "import re\n",
    "from sklearn.model_selection import train_test_split\n",
    "from sklearn.preprocessing import LabelEncoder\n",
    "import nltk\n",
    "from nltk.probability import FreqDist\n",
    "from nltk.tokenize import word_tokenize\n",
    "from tensorflow.keras.utils import to_categorical\n",
    "from keras.models import Sequential, Model\n",
    "from keras.layers import Dense, Dropout, Activation, Input, Embedding, Conv1D, GlobalMaxPool1D, Flatten\n",
    "from keras.losses import categorical_crossentropy, SparseCategoricalCrossentropy"
   ]
  },
  {
   "cell_type": "code",
   "execution_count": 7,
   "id": "91440128",
   "metadata": {},
   "outputs": [
    {
     "data": {
      "text/html": [
       "<div>\n",
       "<style scoped>\n",
       "    .dataframe tbody tr th:only-of-type {\n",
       "        vertical-align: middle;\n",
       "    }\n",
       "\n",
       "    .dataframe tbody tr th {\n",
       "        vertical-align: top;\n",
       "    }\n",
       "\n",
       "    .dataframe thead th {\n",
       "        text-align: right;\n",
       "    }\n",
       "</style>\n",
       "<table border=\"1\" class=\"dataframe\">\n",
       "  <thead>\n",
       "    <tr style=\"text-align: right;\">\n",
       "      <th></th>\n",
       "      <th>Rating</th>\n",
       "      <th>Content</th>\n",
       "      <th>Date</th>\n",
       "    </tr>\n",
       "  </thead>\n",
       "  <tbody>\n",
       "    <tr>\n",
       "      <th>0</th>\n",
       "      <td>5</td>\n",
       "      <td>It just works!</td>\n",
       "      <td>2017-08-14</td>\n",
       "    </tr>\n",
       "    <tr>\n",
       "      <th>1</th>\n",
       "      <td>4</td>\n",
       "      <td>В целом удобноное приложение...из минусов хотя...</td>\n",
       "      <td>2017-08-14</td>\n",
       "    </tr>\n",
       "    <tr>\n",
       "      <th>2</th>\n",
       "      <td>5</td>\n",
       "      <td>Отлично все</td>\n",
       "      <td>2017-08-14</td>\n",
       "    </tr>\n",
       "    <tr>\n",
       "      <th>3</th>\n",
       "      <td>5</td>\n",
       "      <td>Стал зависать на 1% работы антивируса. Дальше ...</td>\n",
       "      <td>2017-08-14</td>\n",
       "    </tr>\n",
       "    <tr>\n",
       "      <th>4</th>\n",
       "      <td>5</td>\n",
       "      <td>Очень удобно, работает быстро.</td>\n",
       "      <td>2017-08-14</td>\n",
       "    </tr>\n",
       "  </tbody>\n",
       "</table>\n",
       "</div>"
      ],
      "text/plain": [
       "   Rating                                            Content        Date\n",
       "0       5                                     It just works!  2017-08-14\n",
       "1       4  В целом удобноное приложение...из минусов хотя...  2017-08-14\n",
       "2       5                                        Отлично все  2017-08-14\n",
       "3       5  Стал зависать на 1% работы антивируса. Дальше ...  2017-08-14\n",
       "4       5                     Очень удобно, работает быстро.  2017-08-14"
      ]
     },
     "execution_count": 7,
     "metadata": {},
     "output_type": "execute_result"
    }
   ],
   "source": [
    "data = pd.read_excel('./data/отзывы за лето.xls')\n",
    "data.head()"
   ]
  },
  {
   "cell_type": "code",
   "execution_count": 8,
   "id": "4c026cc6",
   "metadata": {},
   "outputs": [],
   "source": [
    "max_words = 20000\n",
    "max_len = 150\n",
    "num_classes = 5\n",
    "\n",
    "# Training\n",
    "epochs = 20\n",
    "batch_size = 512\n",
    "print_batch_n = 100"
   ]
  },
  {
   "cell_type": "code",
   "execution_count": 9,
   "id": "7bbf505f",
   "metadata": {},
   "outputs": [],
   "source": [
    "stopwordslist = stopwords.words(\"russian\")\n",
    "ptrn = r'[^a-zA-Zа-яА-Я0-9]'\n",
    "\n",
    "morpher = MorphAnalyzer()\n",
    "\n",
    "def words_only(text):\n",
    "    text=str(text)\n",
    "    return text.lower()   \n",
    "\n",
    "def remove_punkt(text):\n",
    "    return re.sub(ptrn, ' ', text)\n",
    "\n",
    "def to_token(text):\n",
    "    return nltk.tokenize.word_tokenize(text)\n",
    "\n",
    "def remove_stopwords(text):\n",
    "    text_list = [w for w in text if w not in stopwordslist]\n",
    "    return ' '.join(word for word in text_list)\n",
    "\n",
    "def morphe_text(text):\n",
    "    text = [morpher.parse(word)[0].normal_form for word in text.split() if word not in stopwordslist]\n",
    "    return \" \".join(text)\n",
    "\n",
    "def normalize_text(text):\n",
    "    text = words_only(text)\n",
    "    text = remove_punkt(text)\n",
    "    text = to_token(text)\n",
    "    text = remove_stopwords(text)\n",
    "    text = morphe_text(text)\n",
    "    return text"
   ]
  },
  {
   "cell_type": "code",
   "execution_count": 11,
   "id": "ef8dc15b",
   "metadata": {},
   "outputs": [
    {
     "data": {
      "text/html": [
       "<div>\n",
       "<style scoped>\n",
       "    .dataframe tbody tr th:only-of-type {\n",
       "        vertical-align: middle;\n",
       "    }\n",
       "\n",
       "    .dataframe tbody tr th {\n",
       "        vertical-align: top;\n",
       "    }\n",
       "\n",
       "    .dataframe thead th {\n",
       "        text-align: right;\n",
       "    }\n",
       "</style>\n",
       "<table border=\"1\" class=\"dataframe\">\n",
       "  <thead>\n",
       "    <tr style=\"text-align: right;\">\n",
       "      <th></th>\n",
       "      <th>Rating</th>\n",
       "      <th>Content</th>\n",
       "      <th>Date</th>\n",
       "      <th>normalized_content</th>\n",
       "    </tr>\n",
       "  </thead>\n",
       "  <tbody>\n",
       "    <tr>\n",
       "      <th>0</th>\n",
       "      <td>5</td>\n",
       "      <td>It just works!</td>\n",
       "      <td>2017-08-14</td>\n",
       "      <td>it just works</td>\n",
       "    </tr>\n",
       "    <tr>\n",
       "      <th>1</th>\n",
       "      <td>4</td>\n",
       "      <td>В целом удобноное приложение...из минусов хотя...</td>\n",
       "      <td>2017-08-14</td>\n",
       "      <td>целое удобноной приложение минус хотеть слишко...</td>\n",
       "    </tr>\n",
       "    <tr>\n",
       "      <th>2</th>\n",
       "      <td>5</td>\n",
       "      <td>Отлично все</td>\n",
       "      <td>2017-08-14</td>\n",
       "      <td>отлично</td>\n",
       "    </tr>\n",
       "    <tr>\n",
       "      <th>3</th>\n",
       "      <td>5</td>\n",
       "      <td>Стал зависать на 1% работы антивируса. Дальше ...</td>\n",
       "      <td>2017-08-14</td>\n",
       "      <td>стать зависать 1 работа антивирус далёкий нику...</td>\n",
       "    </tr>\n",
       "    <tr>\n",
       "      <th>4</th>\n",
       "      <td>5</td>\n",
       "      <td>Очень удобно, работает быстро.</td>\n",
       "      <td>2017-08-14</td>\n",
       "      <td>очень удобно работать быстро</td>\n",
       "    </tr>\n",
       "  </tbody>\n",
       "</table>\n",
       "</div>"
      ],
      "text/plain": [
       "   Rating                                            Content        Date  \\\n",
       "0       5                                     It just works!  2017-08-14   \n",
       "1       4  В целом удобноное приложение...из минусов хотя...  2017-08-14   \n",
       "2       5                                        Отлично все  2017-08-14   \n",
       "3       5  Стал зависать на 1% работы антивируса. Дальше ...  2017-08-14   \n",
       "4       5                     Очень удобно, работает быстро.  2017-08-14   \n",
       "\n",
       "                                  normalized_content  \n",
       "0                                      it just works  \n",
       "1  целое удобноной приложение минус хотеть слишко...  \n",
       "2                                            отлично  \n",
       "3  стать зависать 1 работа антивирус далёкий нику...  \n",
       "4                       очень удобно работать быстро  "
      ]
     },
     "execution_count": 11,
     "metadata": {},
     "output_type": "execute_result"
    }
   ],
   "source": [
    "data['normalized_content'] = data['Content'].apply(normalize_text)\n",
    "data.head()"
   ]
  },
  {
   "cell_type": "code",
   "execution_count": 12,
   "id": "01d6ca93",
   "metadata": {},
   "outputs": [],
   "source": [
    "train_corpus = \" \".join(data['normalized_content'])\n",
    "train_tokens = word_tokenize(train_corpus)\n",
    "train_tokens_filtered = [word for word in train_tokens if word.isalnum()]"
   ]
  },
  {
   "cell_type": "code",
   "execution_count": 14,
   "id": "6b4f453e",
   "metadata": {},
   "outputs": [
    {
     "data": {
      "text/plain": [
       "['приложение', 'очень', 'удобно', 'работать', 'удобный', 'вс', 'спасибо']"
      ]
     },
     "execution_count": 14,
     "metadata": {},
     "output_type": "execute_result"
    }
   ],
   "source": [
    "dist = FreqDist(train_tokens_filtered)\n",
    "tokens_filtered_top = [pair[0] for pair in dist.most_common(max_words-1)]\n",
    "tokens_filtered_top[:7]"
   ]
  },
  {
   "cell_type": "code",
   "execution_count": 15,
   "id": "bd66cf42",
   "metadata": {},
   "outputs": [],
   "source": [
    "voc = {v: k for k, v in dict(enumerate(tokens_filtered_top, 1)).items()}"
   ]
  },
  {
   "cell_type": "code",
   "execution_count": 16,
   "id": "29e4df25",
   "metadata": {},
   "outputs": [],
   "source": [
    "def text_to_sequence(text, maxlen):\n",
    "    result = []\n",
    "    tokens = word_tokenize(text.lower())\n",
    "    tokens_filtered = [word for word in tokens if word.isalnum()]\n",
    "    for word in tokens_filtered:\n",
    "        if word in voc:\n",
    "            result.append(voc[word])\n",
    "    padding = [0]*(maxlen-len(result))\n",
    "    return padding + result[-maxlen:]"
   ]
  },
  {
   "cell_type": "code",
   "execution_count": 17,
   "id": "dd8d580c",
   "metadata": {},
   "outputs": [],
   "source": [
    "data_train = np.asarray(\n",
    "    [text_to_sequence(text, max_len) for text in data['normalized_content']], \n",
    "    dtype=np.int32)"
   ]
  },
  {
   "cell_type": "code",
   "execution_count": 18,
   "id": "370edaf1",
   "metadata": {},
   "outputs": [],
   "source": [
    "X_train, X_test, y_train, y_test = train_test_split(data_train, data.Rating, test_size=0.3, random_state=1)"
   ]
  },
  {
   "cell_type": "code",
   "execution_count": 19,
   "id": "89e3c431",
   "metadata": {},
   "outputs": [
    {
     "data": {
      "text/plain": [
       "(14461, 150)"
      ]
     },
     "execution_count": 19,
     "metadata": {},
     "output_type": "execute_result"
    }
   ],
   "source": [
    "X_train.shape"
   ]
  },
  {
   "cell_type": "code",
   "execution_count": 22,
   "id": "f6ef8b9a",
   "metadata": {},
   "outputs": [
    {
     "data": {
      "text/plain": [
       "array([0, 1, 2, 3, 4])"
      ]
     },
     "execution_count": 22,
     "metadata": {},
     "output_type": "execute_result"
    }
   ],
   "source": [
    "le = LabelEncoder()\n",
    "\n",
    "y_train = le.fit_transform(y_train) \n",
    "y_test = le.transform(y_test)\n",
    "\n",
    "le.classes_"
   ]
  },
  {
   "cell_type": "markdown",
   "id": "0392bd86",
   "metadata": {},
   "source": [
    "### 2.1 предобученные эмбединги"
   ]
  },
  {
   "cell_type": "code",
   "execution_count": 24,
   "id": "12292ed2",
   "metadata": {},
   "outputs": [
    {
     "name": "stdout",
     "output_type": "stream",
     "text": [
      "Found 249947 word vectors.\n"
     ]
    }
   ],
   "source": [
    "# http://vectors.nlpl.eu/repository/20/186.zip\n",
    "\n",
    "emb_idxs = {}\n",
    "with open('./data/model.txt') as f:\n",
    "    for line in f:\n",
    "        word, coefs = line.split(maxsplit=1)\n",
    "        coefs = np.fromstring(coefs, \"f\", sep=\" \")\n",
    "        emb_idxs[word] = coefs\n",
    "\n",
    "print(\"Found %s word vectors.\" % len(emb_idxs))"
   ]
  },
  {
   "cell_type": "code",
   "execution_count": 26,
   "id": "c298da08",
   "metadata": {},
   "outputs": [],
   "source": [
    "embedding_dim = 200\n",
    "\n",
    "embedding_matrix = np.zeros((max_words, embedding_dim))\n",
    "for word in tokens_filtered_top:\n",
    "    embedding_vector = embeddings_index.get(word)\n",
    "    if embedding_vector is not None:\n",
    "        # words not found in embedding index will be all-zeros.\n",
    "        embedding_matrix[tokens_filtered_top.index(word)] = embedding_vector"
   ]
  },
  {
   "cell_type": "code",
   "execution_count": 31,
   "id": "05f95733",
   "metadata": {},
   "outputs": [],
   "source": [
    "model = Sequential()\n",
    "\n",
    "model.add(Embedding(input_dim=max_words, \n",
    "                    weights=[embedding_matrix], \n",
    "                    output_dim=embedding_dim, \n",
    "                    input_length=max_len))\n",
    "model.add(Conv1D(128, 3))\n",
    "model.add(Activation(\"relu\"))\n",
    "\n",
    "model.add(GlobalMaxPool1D())\n",
    "\n",
    "model.add(Dense(10))\n",
    "model.add(Activation(\"relu\"))\n",
    "\n",
    "model.add(Dense(num_classes))\n",
    "model.add(Activation('softmax'))"
   ]
  },
  {
   "cell_type": "code",
   "execution_count": 34,
   "id": "c84d8331",
   "metadata": {},
   "outputs": [],
   "source": [
    "model.compile(loss=SparseCategoricalCrossentropy(),\n",
    "              optimizer='adam',\n",
    "              metrics=['accuracy'])"
   ]
  },
  {
   "cell_type": "code",
   "execution_count": 35,
   "id": "7584d467",
   "metadata": {},
   "outputs": [
    {
     "name": "stdout",
     "output_type": "stream",
     "text": [
      "Epoch 1/10\n",
      "26/26 [==============================] - 6s 213ms/step - loss: 1.5971 - accuracy: 0.6810 - val_loss: 1.5833 - val_accuracy: 0.7091\n",
      "Epoch 2/10\n",
      "26/26 [==============================] - 5s 202ms/step - loss: 1.5715 - accuracy: 0.7051 - val_loss: 1.5576 - val_accuracy: 0.7091\n",
      "Epoch 3/10\n",
      "26/26 [==============================] - 5s 198ms/step - loss: 1.5465 - accuracy: 0.7051 - val_loss: 1.5327 - val_accuracy: 0.7091\n",
      "Epoch 4/10\n",
      "26/26 [==============================] - 5s 197ms/step - loss: 1.5221 - accuracy: 0.7051 - val_loss: 1.5086 - val_accuracy: 0.7091\n",
      "Epoch 5/10\n",
      "26/26 [==============================] - 5s 197ms/step - loss: 1.4984 - accuracy: 0.7051 - val_loss: 1.4851 - val_accuracy: 0.7091\n",
      "Epoch 6/10\n",
      "26/26 [==============================] - 5s 196ms/step - loss: 1.4754 - accuracy: 0.7051 - val_loss: 1.4622 - val_accuracy: 0.7091\n",
      "Epoch 7/10\n",
      "26/26 [==============================] - 5s 197ms/step - loss: 1.4530 - accuracy: 0.7051 - val_loss: 1.4401 - val_accuracy: 0.7091\n",
      "Epoch 8/10\n",
      "26/26 [==============================] - 5s 198ms/step - loss: 1.4315 - accuracy: 0.7051 - val_loss: 1.4186 - val_accuracy: 0.7091\n",
      "Epoch 9/10\n",
      "26/26 [==============================] - 5s 199ms/step - loss: 1.4105 - accuracy: 0.7051 - val_loss: 1.3979 - val_accuracy: 0.7091\n",
      "Epoch 10/10\n",
      "26/26 [==============================] - 5s 197ms/step - loss: 1.3903 - accuracy: 0.7051 - val_loss: 1.3779 - val_accuracy: 0.7091\n"
     ]
    },
    {
     "data": {
      "text/plain": [
       "<tensorflow.python.keras.callbacks.History at 0x7f8556a5acc0>"
      ]
     },
     "execution_count": 35,
     "metadata": {},
     "output_type": "execute_result"
    }
   ],
   "source": [
    "model.fit(X_train, y_train,\n",
    "          batch_size=batch_size,\n",
    "          epochs=10,\n",
    "          verbose=1,\n",
    "          validation_split=0.1)"
   ]
  },
  {
   "cell_type": "code",
   "execution_count": 36,
   "id": "ddba9d1f",
   "metadata": {},
   "outputs": [
    {
     "name": "stdout",
     "output_type": "stream",
     "text": [
      "13/13 [==============================] - 1s 40ms/step - loss: 1.3788 - accuracy: 0.7073\n",
      "Test score: 1.3788093328475952\n",
      "Test accuracy: 0.7073249220848083\n"
     ]
    }
   ],
   "source": [
    "score = model.evaluate(X_test, y_test, batch_size=batch_size, verbose=1)\n",
    "\n",
    "print('Test score:', score[0])\n",
    "print('Test accuracy:', score[1])"
   ]
  },
  {
   "cell_type": "markdown",
   "id": "9dbf9369",
   "metadata": {},
   "source": [
    "### 2.2 эмбединги по умолчанию"
   ]
  },
  {
   "cell_type": "code",
   "execution_count": 37,
   "id": "469ab961",
   "metadata": {},
   "outputs": [],
   "source": [
    "model = Sequential()\n",
    "\n",
    "model.add(Embedding(input_dim=max_words, \n",
    "                    output_dim=128, \n",
    "                    input_length=max_len))\n",
    "\n",
    "model.add(Conv1D(128, 3))\n",
    "model.add(Activation(\"relu\"))\n",
    "\n",
    "model.add(GlobalMaxPool1D())\n",
    "model.add(Flatten())\n",
    "\n",
    "model.add(Dense(10))\n",
    "model.add(Activation(\"relu\"))\n",
    "\n",
    "model.add(Dense(num_classes))\n",
    "model.add(Activation('softmax'))"
   ]
  },
  {
   "cell_type": "code",
   "execution_count": 38,
   "id": "ce748957",
   "metadata": {},
   "outputs": [],
   "source": [
    "model.compile(loss=SparseCategoricalCrossentropy(),\n",
    "              optimizer='adam',\n",
    "              metrics=['accuracy'])"
   ]
  },
  {
   "cell_type": "code",
   "execution_count": 39,
   "id": "3c5cfb23",
   "metadata": {},
   "outputs": [
    {
     "name": "stdout",
     "output_type": "stream",
     "text": [
      "Epoch 1/10\n",
      "26/26 [==============================] - 4s 152ms/step - loss: 1.2665 - accuracy: 0.6576 - val_loss: 1.0539 - val_accuracy: 0.7091\n",
      "Epoch 2/10\n",
      "26/26 [==============================] - 4s 141ms/step - loss: 0.9506 - accuracy: 0.7079 - val_loss: 0.8376 - val_accuracy: 0.7367\n",
      "Epoch 3/10\n",
      "26/26 [==============================] - 4s 142ms/step - loss: 0.7648 - accuracy: 0.7620 - val_loss: 0.7583 - val_accuracy: 0.7671\n",
      "Epoch 4/10\n",
      "26/26 [==============================] - 4s 141ms/step - loss: 0.6815 - accuracy: 0.7812 - val_loss: 0.7241 - val_accuracy: 0.7671\n",
      "Epoch 5/10\n",
      "26/26 [==============================] - 4s 140ms/step - loss: 0.6278 - accuracy: 0.7906 - val_loss: 0.7053 - val_accuracy: 0.7699\n",
      "Epoch 6/10\n",
      "26/26 [==============================] - 4s 143ms/step - loss: 0.5849 - accuracy: 0.8003 - val_loss: 0.6897 - val_accuracy: 0.7719\n",
      "Epoch 7/10\n",
      "26/26 [==============================] - 4s 143ms/step - loss: 0.5417 - accuracy: 0.8144 - val_loss: 0.6733 - val_accuracy: 0.7768\n",
      "Epoch 8/10\n",
      "26/26 [==============================] - 4s 141ms/step - loss: 0.4940 - accuracy: 0.8333 - val_loss: 0.6717 - val_accuracy: 0.7726\n",
      "Epoch 9/10\n",
      "26/26 [==============================] - 4s 144ms/step - loss: 0.4407 - accuracy: 0.8598 - val_loss: 0.6846 - val_accuracy: 0.7685\n",
      "Epoch 10/10\n",
      "26/26 [==============================] - 4s 143ms/step - loss: 0.3968 - accuracy: 0.8717 - val_loss: 0.6998 - val_accuracy: 0.7650\n"
     ]
    },
    {
     "data": {
      "text/plain": [
       "<tensorflow.python.keras.callbacks.History at 0x7f853c44eb00>"
      ]
     },
     "execution_count": 39,
     "metadata": {},
     "output_type": "execute_result"
    }
   ],
   "source": [
    "model.fit(X_train, y_train,\n",
    "          batch_size=batch_size,\n",
    "          epochs=10,\n",
    "          verbose=1,\n",
    "          validation_split=0.1)"
   ]
  },
  {
   "cell_type": "code",
   "execution_count": 40,
   "id": "9c262cd5",
   "metadata": {},
   "outputs": [
    {
     "name": "stdout",
     "output_type": "stream",
     "text": [
      "13/13 [==============================] - 0s 30ms/step - loss: 0.6986 - accuracy: 0.7646\n",
      "Test score: 0.6986313462257385\n",
      "Test accuracy: 0.764601469039917\n"
     ]
    }
   ],
   "source": [
    "score = model.evaluate(X_test, y_test, batch_size=batch_size, verbose=1)\n",
    "\n",
    "print('Test score:', score[0])\n",
    "print('Test accuracy:', score[1])"
   ]
  },
  {
   "cell_type": "markdown",
   "id": "1db7e30b",
   "metadata": {},
   "source": [
    "Точность на предобученных эмбедингах ниже. Возможно из-за несоответствия набора токенов (словарей)"
   ]
  }
 ],
 "metadata": {
  "kernelspec": {
   "display_name": "Python 3",
   "language": "python",
   "name": "python3"
  },
  "language_info": {
   "codemirror_mode": {
    "name": "ipython",
    "version": 3
   },
   "file_extension": ".py",
   "mimetype": "text/x-python",
   "name": "python",
   "nbconvert_exporter": "python",
   "pygments_lexer": "ipython3",
   "version": "3.6.13"
  }
 },
 "nbformat": 4,
 "nbformat_minor": 5
}
