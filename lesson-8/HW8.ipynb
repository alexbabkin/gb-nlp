{
 "cells": [
  {
   "cell_type": "markdown",
   "id": "fc889f73",
   "metadata": {},
   "source": [
    "# Задание \n",
    "### На вебинаре мы говорили что долгое время CNN и RNN архитектуры были конурируещими выяснить какая архитектура больше подходит для задачи сантимент анализа на данных с вебинара\n",
    "\n",
    "1. построить свёрточные архитектуры\n",
    "2. построить различные архитектуры с RNN\n",
    "3. построить совместные архитектуры CNN -> RNN и (RNN -> CNN)\n",
    "4. сдлать выводы что получилось лучше"
   ]
  },
  {
   "cell_type": "code",
   "execution_count": 7,
   "id": "5946811f",
   "metadata": {},
   "outputs": [],
   "source": [
    "import pandas as pd\n",
    "from string import punctuation\n",
    "from pymorphy2 import MorphAnalyzer\n",
    "import re\n",
    "import numpy as np\n",
    "from keras.models import Sequential, Model\n",
    "from keras.layers import Dense, Dropout, Activation, Input, Embedding, Conv1D, GlobalMaxPool1D, SimpleRNN, LSTM, GRU, Masking, Flatten, add\n",
    "from keras.preprocessing.text import Tokenizer\n",
    "from keras.preprocessing.sequence import pad_sequences\n",
    "from keras.callbacks import TensorBoard \n",
    "from keras.losses import categorical_crossentropy\n",
    "from stop_words import get_stop_words"
   ]
  },
  {
   "cell_type": "code",
   "execution_count": 3,
   "id": "f90f6a8d",
   "metadata": {},
   "outputs": [],
   "source": [
    "df_train = pd.read_csv(\"./data/train.csv\")\n",
    "df_test = pd.read_csv(\"./data/test.csv\")\n",
    "df_val = pd.read_csv(\"./data/val.csv\")"
   ]
  },
  {
   "cell_type": "code",
   "execution_count": 4,
   "id": "48e5e79e",
   "metadata": {},
   "outputs": [
    {
     "data": {
      "text/html": [
       "<div>\n",
       "<style scoped>\n",
       "    .dataframe tbody tr th:only-of-type {\n",
       "        vertical-align: middle;\n",
       "    }\n",
       "\n",
       "    .dataframe tbody tr th {\n",
       "        vertical-align: top;\n",
       "    }\n",
       "\n",
       "    .dataframe thead th {\n",
       "        text-align: right;\n",
       "    }\n",
       "</style>\n",
       "<table border=\"1\" class=\"dataframe\">\n",
       "  <thead>\n",
       "    <tr style=\"text-align: right;\">\n",
       "      <th></th>\n",
       "      <th>id</th>\n",
       "      <th>text</th>\n",
       "      <th>class</th>\n",
       "    </tr>\n",
       "  </thead>\n",
       "  <tbody>\n",
       "    <tr>\n",
       "      <th>0</th>\n",
       "      <td>0</td>\n",
       "      <td>@alisachachka не уезжаааааааай. :(❤ я тоже не ...</td>\n",
       "      <td>0</td>\n",
       "    </tr>\n",
       "    <tr>\n",
       "      <th>1</th>\n",
       "      <td>1</td>\n",
       "      <td>RT @GalyginVadim: Ребята и девчата!\\nВсе в кин...</td>\n",
       "      <td>1</td>\n",
       "    </tr>\n",
       "    <tr>\n",
       "      <th>2</th>\n",
       "      <td>2</td>\n",
       "      <td>RT @ARTEM_KLYUSHIN: Кто ненавидит пробки ретви...</td>\n",
       "      <td>0</td>\n",
       "    </tr>\n",
       "    <tr>\n",
       "      <th>3</th>\n",
       "      <td>3</td>\n",
       "      <td>RT @epupybobv: Хочется котлету по-киевски. Зап...</td>\n",
       "      <td>1</td>\n",
       "    </tr>\n",
       "    <tr>\n",
       "      <th>4</th>\n",
       "      <td>4</td>\n",
       "      <td>@KarineKurganova @Yess__Boss босапопа есбоса н...</td>\n",
       "      <td>1</td>\n",
       "    </tr>\n",
       "  </tbody>\n",
       "</table>\n",
       "</div>"
      ],
      "text/plain": [
       "   id                                               text  class\n",
       "0   0  @alisachachka не уезжаааааааай. :(❤ я тоже не ...      0\n",
       "1   1  RT @GalyginVadim: Ребята и девчата!\\nВсе в кин...      1\n",
       "2   2  RT @ARTEM_KLYUSHIN: Кто ненавидит пробки ретви...      0\n",
       "3   3  RT @epupybobv: Хочется котлету по-киевски. Зап...      1\n",
       "4   4  @KarineKurganova @Yess__Boss босапопа есбоса н...      1"
      ]
     },
     "execution_count": 4,
     "metadata": {},
     "output_type": "execute_result"
    }
   ],
   "source": [
    "df_train.head()"
   ]
  },
  {
   "cell_type": "code",
   "execution_count": 8,
   "id": "a93c133e",
   "metadata": {},
   "outputs": [],
   "source": [
    "sw = set(get_stop_words(\"ru\"))\n",
    "exclude = set(punctuation)\n",
    "morpher = MorphAnalyzer()\n",
    "\n",
    "def preprocess_text(txt):\n",
    "    txt = str(txt)\n",
    "    txt = \"\".join(c for c in txt if c not in exclude)\n",
    "    txt = txt.lower()\n",
    "    txt = re.sub(\"\\sне\", \"не\", txt)\n",
    "    txt = [morpher.parse(word)[0].normal_form for word in txt.split() if word not in sw]\n",
    "    return \" \".join(txt)\n",
    "\n",
    "df_train['text'] = df_train['text'].apply(preprocess_text)\n",
    "df_val['text'] = df_val['text'].apply(preprocess_text)\n",
    "df_test['text'] = df_test['text'].apply(preprocess_text)"
   ]
  },
  {
   "cell_type": "code",
   "execution_count": 9,
   "id": "a28e9ad6",
   "metadata": {},
   "outputs": [],
   "source": [
    "text_corpus_train = df_train['text'].values\n",
    "text_corpus_valid = df_val['text'].values\n",
    "text_corpus_test = df_test['text'].values"
   ]
  },
  {
   "cell_type": "code",
   "execution_count": 10,
   "id": "b3c49fcb",
   "metadata": {},
   "outputs": [],
   "source": [
    "tokenizer = Tokenizer(num_words=None, \n",
    "                     filters='#$%&()*+-<=>@[\\\\]^_`{|}~\\t\\n',\n",
    "                     lower = False, split = ' ')\n",
    "tokenizer.fit_on_texts(text_corpus_train)\n",
    "\n",
    "sequences_train = tokenizer.texts_to_sequences(text_corpus_train)\n",
    "sequences_val = tokenizer.texts_to_sequences(text_corpus_valid)\n",
    "sequences_test = tokenizer.texts_to_sequences(text_corpus_test)\n",
    "\n",
    "word_count = len(tokenizer.index_word) + 1\n",
    "training_length = max([len(i.split()) for i in text_corpus_train])\n",
    "\n",
    "X_train = pad_sequences(sequences_train, maxlen=training_length)\n",
    "X_valid = pad_sequences(sequences_val, maxlen=training_length)"
   ]
  },
  {
   "cell_type": "code",
   "execution_count": 11,
   "id": "810fac89",
   "metadata": {},
   "outputs": [],
   "source": [
    "y_train = df_train['class'].values\n",
    "y_val = df_val['class'].values"
   ]
  },
  {
   "cell_type": "code",
   "execution_count": 21,
   "id": "e19ae90f",
   "metadata": {},
   "outputs": [],
   "source": [
    "from keras.callbacks import EarlyStopping  \n",
    "early_stopping=EarlyStopping(monitor='val_loss') "
   ]
  },
  {
   "cell_type": "markdown",
   "id": "64b46a25",
   "metadata": {},
   "source": [
    "### Свёрточная сеть"
   ]
  },
  {
   "cell_type": "code",
   "execution_count": 31,
   "id": "b20b9805",
   "metadata": {},
   "outputs": [],
   "source": [
    "model_cnn = Sequential()\n",
    "\n",
    "model_cnn.add(Embedding(input_dim=word_count, \n",
    "                        input_length=training_length, \n",
    "                        output_dim=30))\n",
    "\n",
    "model_cnn.add(Conv1D(30, 3, activation='relu'))\n",
    "model_cnn.add(GlobalMaxPool1D())\n",
    "model_cnn.add(Flatten())\n",
    "\n",
    "model_cnn.add(Dense(10, activation='relu'))\n",
    "model_cnn.add(Dropout(0.5))\n",
    "\n",
    "model_cnn.add(Dense(1, activation='sigmoid'))"
   ]
  },
  {
   "cell_type": "code",
   "execution_count": 32,
   "id": "95e3aae9",
   "metadata": {},
   "outputs": [],
   "source": [
    "model_cnn.compile(optimizer='adam',\n",
    "                  loss='binary_crossentropy', \n",
    "                  metrics=['accuracy'])"
   ]
  },
  {
   "cell_type": "code",
   "execution_count": 33,
   "id": "91c781cc",
   "metadata": {},
   "outputs": [
    {
     "name": "stdout",
     "output_type": "stream",
     "text": [
      "Epoch 1/10\n",
      "319/319 [==============================] - 16s 51ms/step - loss: 0.6058 - accuracy: 0.6568 - val_loss: 0.5118 - val_accuracy: 0.7462\n",
      "Epoch 2/10\n",
      "319/319 [==============================] - 17s 53ms/step - loss: 0.4173 - accuracy: 0.8173 - val_loss: 0.5029 - val_accuracy: 0.7510\n",
      "Epoch 3/10\n",
      "319/319 [==============================] - 16s 51ms/step - loss: 0.2459 - accuracy: 0.9009 - val_loss: 0.6029 - val_accuracy: 0.7444\n"
     ]
    },
    {
     "data": {
      "text/plain": [
       "<tensorflow.python.keras.callbacks.History at 0x7fd920687c18>"
      ]
     },
     "execution_count": 33,
     "metadata": {},
     "output_type": "execute_result"
    }
   ],
   "source": [
    "model_cnn.fit(X_train, y_train,\n",
    "              batch_size=512,\n",
    "              epochs=10,\n",
    "              verbose=1,\n",
    "              validation_split=0.1,\n",
    "              callbacks=[early_stopping])"
   ]
  },
  {
   "cell_type": "code",
   "execution_count": 34,
   "id": "2d142570",
   "metadata": {},
   "outputs": [
    {
     "name": "stdout",
     "output_type": "stream",
     "text": [
      "45/45 [==============================] - 0s 2ms/step - loss: 0.6667 - accuracy: 0.7306\n",
      "Test score: 0.6666739583015442\n",
      "Test accuracy: 0.7306352853775024\n"
     ]
    }
   ],
   "source": [
    "score = model_cnn.evaluate(X_valid, y_val, batch_size=512, verbose=1)\n",
    "\n",
    "print('Test score:', score[0])\n",
    "print('Test accuracy:', score[1])"
   ]
  },
  {
   "cell_type": "markdown",
   "id": "8b943c31",
   "metadata": {},
   "source": [
    "### RNN сеть"
   ]
  },
  {
   "cell_type": "code",
   "execution_count": 35,
   "id": "1c67bbce",
   "metadata": {},
   "outputs": [],
   "source": [
    "model_rnn = Sequential()\n",
    "\n",
    "model_rnn.add(Embedding(input_dim=word_count, \n",
    "                        output_dim=30, \n",
    "                        input_length=training_length))\n",
    "\n",
    "model_rnn.add(SimpleRNN(64))\n",
    "model_rnn.add(Dense(64, activation='relu'))\n",
    "model_rnn.add(Dropout(0.5))\n",
    "\n",
    "model_rnn.add(Dense(1, activation='sigmoid'))"
   ]
  },
  {
   "cell_type": "code",
   "execution_count": 36,
   "id": "033ed640",
   "metadata": {},
   "outputs": [],
   "source": [
    "model_rnn.compile(optimizer='adam', \n",
    "                  loss='binary_crossentropy', \n",
    "                  metrics=['accuracy'])"
   ]
  },
  {
   "cell_type": "code",
   "execution_count": 37,
   "id": "a3c772a6",
   "metadata": {},
   "outputs": [
    {
     "name": "stdout",
     "output_type": "stream",
     "text": [
      "Epoch 1/10\n",
      "319/319 [==============================] - 24s 76ms/step - loss: 0.5586 - accuracy: 0.7008 - val_loss: 0.4908 - val_accuracy: 0.7560\n",
      "Epoch 2/10\n",
      "319/319 [==============================] - 26s 81ms/step - loss: 0.2868 - accuracy: 0.8837 - val_loss: 0.5703 - val_accuracy: 0.7426\n"
     ]
    },
    {
     "data": {
      "text/plain": [
       "<tensorflow.python.keras.callbacks.History at 0x7fd920487828>"
      ]
     },
     "execution_count": 37,
     "metadata": {},
     "output_type": "execute_result"
    }
   ],
   "source": [
    "model_rnn.fit(X_train, y_train,\n",
    "              batch_size=512,\n",
    "              epochs=10,\n",
    "              verbose=1,\n",
    "              validation_split=0.1,\n",
    "              callbacks=[early_stopping])"
   ]
  },
  {
   "cell_type": "code",
   "execution_count": 38,
   "id": "d5e3b6b4",
   "metadata": {},
   "outputs": [
    {
     "name": "stdout",
     "output_type": "stream",
     "text": [
      "45/45 [==============================] - 0s 7ms/step - loss: 0.5967 - accuracy: 0.7293\n",
      "Test score: 0.5966779589653015\n",
      "Test accuracy: 0.7293127179145813\n"
     ]
    }
   ],
   "source": [
    "score = model_rnn.evaluate(X_valid, y_val, batch_size=512, verbose=1)\n",
    "\n",
    "print('Test score:', score[0])\n",
    "print('Test accuracy:', score[1])"
   ]
  },
  {
   "cell_type": "markdown",
   "id": "1ec6211a",
   "metadata": {},
   "source": [
    "### LSTM сеть"
   ]
  },
  {
   "cell_type": "code",
   "execution_count": 39,
   "id": "2d55b051",
   "metadata": {},
   "outputs": [],
   "source": [
    "model_lstm = Sequential()\n",
    "\n",
    "model_lstm.add(Embedding(input_dim=word_count, \n",
    "                         output_dim=30, \n",
    "                         input_length=training_length))\n",
    "\n",
    "model_lstm.add(LSTM(64, recurrent_dropout=0.2))\n",
    "\n",
    "model_lstm.add(Dense(64, activation='relu'))\n",
    "\n",
    "model_lstm.add(Dropout(0.5))\n",
    "\n",
    "model_lstm.add(Dense(1, activation='sigmoid'))"
   ]
  },
  {
   "cell_type": "code",
   "execution_count": 40,
   "id": "9ec8c7ea",
   "metadata": {},
   "outputs": [],
   "source": [
    "model_lstm.compile(optimizer='adam', \n",
    "                   loss='binary_crossentropy', \n",
    "                   metrics=['accuracy'])"
   ]
  },
  {
   "cell_type": "code",
   "execution_count": 41,
   "id": "c81c992e",
   "metadata": {},
   "outputs": [
    {
     "name": "stdout",
     "output_type": "stream",
     "text": [
      "Epoch 1/10\n",
      "319/319 [==============================] - 57s 178ms/step - loss: 0.5562 - accuracy: 0.7059 - val_loss: 0.4899 - val_accuracy: 0.7564\n",
      "Epoch 2/10\n",
      "319/319 [==============================] - 65s 204ms/step - loss: 0.3326 - accuracy: 0.8623 - val_loss: 0.5401 - val_accuracy: 0.7498\n"
     ]
    },
    {
     "data": {
      "text/plain": [
       "<tensorflow.python.keras.callbacks.History at 0x7fd92015bfd0>"
      ]
     },
     "execution_count": 41,
     "metadata": {},
     "output_type": "execute_result"
    }
   ],
   "source": [
    "model_lstm.fit(X_train, y_train,\n",
    "               batch_size=512,\n",
    "               epochs=10,\n",
    "               verbose=1,\n",
    "               validation_split=0.1,\n",
    "               callbacks=[early_stopping])"
   ]
  },
  {
   "cell_type": "code",
   "execution_count": 42,
   "id": "0def9729",
   "metadata": {},
   "outputs": [
    {
     "name": "stdout",
     "output_type": "stream",
     "text": [
      "45/45 [==============================] - 2s 36ms/step - loss: 0.5852 - accuracy: 0.7380\n",
      "Test score: 0.585203230381012\n",
      "Test accuracy: 0.7379975914955139\n"
     ]
    }
   ],
   "source": [
    "score = model_lstm.evaluate(X_valid, y_val, batch_size=512, verbose=1)\n",
    "\n",
    "print('Test score:', score[0])\n",
    "print('Test accuracy:', score[1])"
   ]
  },
  {
   "cell_type": "markdown",
   "id": "dbf0dbfe",
   "metadata": {},
   "source": [
    "### GRU сеть"
   ]
  },
  {
   "cell_type": "code",
   "execution_count": 43,
   "id": "61821a73",
   "metadata": {},
   "outputs": [],
   "source": [
    "model_gru = Sequential()\n",
    "\n",
    "model_gru.add(Embedding(input_dim=word_count, \n",
    "                        input_length=training_length, \n",
    "                        output_dim=30))\n",
    "\n",
    "model_gru.add(GRU(64, recurrent_dropout=0.2))\n",
    "\n",
    "model_gru.add(Dense(64, activation='relu'))\n",
    "\n",
    "model_gru.add(Dropout(0.5))\n",
    "\n",
    "model_gru.add(Dense(1, activation='sigmoid'))"
   ]
  },
  {
   "cell_type": "code",
   "execution_count": 44,
   "id": "876801f8",
   "metadata": {},
   "outputs": [],
   "source": [
    "model_gru.compile(optimizer='adam', \n",
    "                  loss='binary_crossentropy', \n",
    "                  metrics=['accuracy'])"
   ]
  },
  {
   "cell_type": "code",
   "execution_count": 45,
   "id": "45979473",
   "metadata": {},
   "outputs": [
    {
     "name": "stdout",
     "output_type": "stream",
     "text": [
      "Epoch 1/10\n",
      "319/319 [==============================] - 53s 166ms/step - loss: 0.5554 - accuracy: 0.7032 - val_loss: 0.4939 - val_accuracy: 0.7541\n",
      "Epoch 2/10\n",
      "319/319 [==============================] - 54s 169ms/step - loss: 0.3220 - accuracy: 0.8674 - val_loss: 0.5485 - val_accuracy: 0.7495\n"
     ]
    },
    {
     "data": {
      "text/plain": [
       "<tensorflow.python.keras.callbacks.History at 0x7fd8e46cb4e0>"
      ]
     },
     "execution_count": 45,
     "metadata": {},
     "output_type": "execute_result"
    }
   ],
   "source": [
    "model_gru.fit(X_train, y_train,\n",
    "              batch_size=512,\n",
    "              epochs=10,\n",
    "              verbose=1,\n",
    "              validation_split=0.1,\n",
    "              callbacks=[early_stopping])"
   ]
  },
  {
   "cell_type": "code",
   "execution_count": 46,
   "id": "caa04423",
   "metadata": {},
   "outputs": [
    {
     "name": "stdout",
     "output_type": "stream",
     "text": [
      "45/45 [==============================] - 1s 22ms/step - loss: 0.5946 - accuracy: 0.7372\n",
      "Test score: 0.5945937633514404\n",
      "Test accuracy: 0.7372481822967529\n"
     ]
    }
   ],
   "source": [
    "score = model_gru.evaluate(X_valid, y_val, batch_size=512, verbose=1)\n",
    "\n",
    "print('Test score:', score[0])\n",
    "print('Test accuracy:', score[1])"
   ]
  },
  {
   "cell_type": "markdown",
   "id": "31273581",
   "metadata": {},
   "source": [
    "### Сеть CNN -> RNN"
   ]
  },
  {
   "cell_type": "code",
   "execution_count": 47,
   "id": "a94131fb",
   "metadata": {},
   "outputs": [],
   "source": [
    "model_cnn_rnn = Sequential()\n",
    "\n",
    "model_cnn_rnn.add(Embedding(input_dim=word_count, \n",
    "                            input_length=training_length, \n",
    "                            output_dim=30))\n",
    "\n",
    "model_cnn_rnn.add(Conv1D(filters=64, \n",
    "                         kernel_size=3, \n",
    "                         activation='relu', \n",
    "                         padding=\"same\"))\n",
    "\n",
    "model_cnn_rnn.add(LSTM(64, return_sequences=True))\n",
    "model_cnn_rnn.add(Flatten())\n",
    "\n",
    "model_cnn_rnn.add(Dense(64, activation='relu'))\n",
    "\n",
    "model_cnn_rnn.add(Dropout(0.5))\n",
    "\n",
    "model_cnn_rnn.add(Dense(1, activation='sigmoid'))"
   ]
  },
  {
   "cell_type": "code",
   "execution_count": 48,
   "id": "1897477f",
   "metadata": {},
   "outputs": [],
   "source": [
    "model_cnn_rnn.compile(optimizer='adam', \n",
    "                      loss='binary_crossentropy', \n",
    "                      metrics=['accuracy'])"
   ]
  },
  {
   "cell_type": "code",
   "execution_count": 49,
   "id": "860866b1",
   "metadata": {},
   "outputs": [
    {
     "name": "stdout",
     "output_type": "stream",
     "text": [
      "Epoch 1/10\n",
      "319/319 [==============================] - 44s 137ms/step - loss: 0.5540 - accuracy: 0.7047 - val_loss: 0.4845 - val_accuracy: 0.7597\n",
      "Epoch 2/10\n",
      "319/319 [==============================] - 51s 161ms/step - loss: 0.3037 - accuracy: 0.8758 - val_loss: 0.5304 - val_accuracy: 0.7439\n"
     ]
    },
    {
     "data": {
      "text/plain": [
       "<tensorflow.python.keras.callbacks.History at 0x7fd8e0248d30>"
      ]
     },
     "execution_count": 49,
     "metadata": {},
     "output_type": "execute_result"
    }
   ],
   "source": [
    "model_cnn_rnn.fit(X_train, y_train,\n",
    "                  batch_size=512,\n",
    "                  epochs=10,\n",
    "                  verbose=1,\n",
    "                  validation_split=0.1,\n",
    "                  callbacks=[early_stopping])"
   ]
  },
  {
   "cell_type": "code",
   "execution_count": 50,
   "id": "41940468",
   "metadata": {},
   "outputs": [
    {
     "name": "stdout",
     "output_type": "stream",
     "text": [
      "45/45 [==============================] - 2s 52ms/step - loss: 0.5583 - accuracy: 0.7382\n",
      "Test score: 0.5582707524299622\n",
      "Test accuracy: 0.7381739616394043\n"
     ]
    }
   ],
   "source": [
    "score = model_cnn_rnn.evaluate(X_valid, y_val, batch_size=512, verbose=1)\n",
    "\n",
    "print('Test score:', score[0])\n",
    "print('Test accuracy:', score[1])"
   ]
  },
  {
   "cell_type": "markdown",
   "id": "077f2886",
   "metadata": {},
   "source": [
    "### Сеть RNN -> CNN"
   ]
  },
  {
   "cell_type": "code",
   "execution_count": 52,
   "id": "b0570ab1",
   "metadata": {},
   "outputs": [],
   "source": [
    "model_rnn_cnn = Sequential()\n",
    "\n",
    "model_rnn_cnn.add(Embedding(input_dim=word_count, \n",
    "                            input_length=training_length, \n",
    "                            output_dim=30))\n",
    "\n",
    "model_rnn_cnn.add(LSTM(64, return_sequences=True))\n",
    "\n",
    "model_rnn_cnn.add(Conv1D(filters=64, \n",
    "                         kernel_size=3, \n",
    "                         activation='relu', \n",
    "                         padding=\"same\"))\n",
    "model_rnn_cnn.add(Flatten())\n",
    "\n",
    "model_rnn_cnn.add(Dense(64, activation='relu'))\n",
    "\n",
    "model_rnn_cnn.add(Dropout(0.5))\n",
    "\n",
    "model_rnn_cnn.add(Dense(1, activation='sigmoid'))"
   ]
  },
  {
   "cell_type": "code",
   "execution_count": 53,
   "id": "4b375554",
   "metadata": {},
   "outputs": [],
   "source": [
    "model_rnn_cnn.compile(optimizer='adam', \n",
    "                      loss='binary_crossentropy', \n",
    "                      metrics=['accuracy'])"
   ]
  },
  {
   "cell_type": "code",
   "execution_count": 54,
   "id": "a2e5f099",
   "metadata": {},
   "outputs": [
    {
     "name": "stdout",
     "output_type": "stream",
     "text": [
      "Epoch 1/10\n",
      "319/319 [==============================] - 45s 141ms/step - loss: 0.5528 - accuracy: 0.7078 - val_loss: 0.4902 - val_accuracy: 0.7582\n",
      "Epoch 2/10\n",
      "319/319 [==============================] - 47s 146ms/step - loss: 0.3096 - accuracy: 0.8717 - val_loss: 0.5507 - val_accuracy: 0.7466\n"
     ]
    },
    {
     "data": {
      "text/plain": [
       "<tensorflow.python.keras.callbacks.History at 0x7fd8d037ce48>"
      ]
     },
     "execution_count": 54,
     "metadata": {},
     "output_type": "execute_result"
    }
   ],
   "source": [
    "model_rnn_cnn.fit(X_train, y_train,\n",
    "                  batch_size=512,\n",
    "                  epochs=10,\n",
    "                  verbose=1,\n",
    "                  validation_split=0.1,\n",
    "                  callbacks=[early_stopping])"
   ]
  },
  {
   "cell_type": "code",
   "execution_count": 55,
   "id": "e365a5a2",
   "metadata": {},
   "outputs": [
    {
     "name": "stdout",
     "output_type": "stream",
     "text": [
      "45/45 [==============================] - 2s 43ms/step - loss: 0.5705 - accuracy: 0.7394\n",
      "Test score: 0.5704938769340515\n",
      "Test accuracy: 0.7394083738327026\n"
     ]
    }
   ],
   "source": [
    "score = model_rnn_cnn.evaluate(X_valid, y_val, batch_size=512, verbose=1)\n",
    "\n",
    "print('Test score:', score[0])\n",
    "print('Test accuracy:', score[1])"
   ]
  },
  {
   "cell_type": "markdown",
   "id": "561072cd",
   "metadata": {},
   "source": [
    "Судя по результатам архетектуры различаются незначаительно, однако лучший результат показывает cnn -> rnn сеть"
   ]
  }
 ],
 "metadata": {
  "kernelspec": {
   "display_name": "Python 3",
   "language": "python",
   "name": "python3"
  },
  "language_info": {
   "codemirror_mode": {
    "name": "ipython",
    "version": 3
   },
   "file_extension": ".py",
   "mimetype": "text/x-python",
   "name": "python",
   "nbconvert_exporter": "python",
   "pygments_lexer": "ipython3",
   "version": "3.6.13"
  }
 },
 "nbformat": 4,
 "nbformat_minor": 5
}
